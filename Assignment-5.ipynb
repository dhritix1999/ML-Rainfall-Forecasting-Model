{
 "cells": [
  {
   "cell_type": "code",
   "execution_count": 1,
   "metadata": {},
   "outputs": [
    {
     "name": "stdout",
     "output_type": "stream",
     "text": [
      "[[18.5 19.7 22.4 ... 18.9 18.6  1. ]\n",
      " [23.7 36.3  2.2 ... 26.5 34.1  1. ]\n",
      " [18.4 27.5  0.  ... 19.7 24.4  0. ]\n",
      " ...\n",
      " [10.  20.1  0.  ... 14.3 19.   0. ]\n",
      " [ 9.9 25.3  0.  ... 14.4 24.5  0. ]\n",
      " [14.4 19.8 13.2 ... 15.4 16.6  1. ]]\n"
     ]
    }
   ],
   "source": [
    "%store -r X\n",
    "print(X)"
   ]
  },
  {
   "cell_type": "code",
   "execution_count": 2,
   "metadata": {},
   "outputs": [
    {
     "name": "stdout",
     "output_type": "stream",
     "text": [
      "[1 1 1 ... 0 0 0]\n"
     ]
    }
   ],
   "source": [
    "%store -r Y\n",
    "print(Y)\n"
   ]
  },
  {
   "cell_type": "code",
   "execution_count": 6,
   "metadata": {},
   "outputs": [
    {
     "data": {
      "text/plain": [
       "(1033, 20)"
      ]
     },
     "execution_count": 6,
     "metadata": {},
     "output_type": "execute_result"
    }
   ],
   "source": [
    "X.shape"
   ]
  },
  {
   "cell_type": "code",
   "execution_count": 7,
   "metadata": {},
   "outputs": [],
   "source": [
    "from sklearn import preprocessing \n",
    "import numpy as np\n",
    "from sklearn.model_selection import KFold\n",
    "from sklearn.model_selection import cross_validate\n",
    "from sklearn.neighbors import KNeighborsClassifier\n",
    "from sklearn.svm import SVC\n"
   ]
  },
  {
   "cell_type": "markdown",
   "metadata": {},
   "source": [
    "## Q1 Applying feature scaling using MinMaxScaler to scale our features."
   ]
  },
  {
   "cell_type": "code",
   "execution_count": 9,
   "metadata": {},
   "outputs": [
    {
     "name": "stdout",
     "output_type": "stream",
     "text": [
      "[[0.66666667 0.28908555 0.23728814 ... 0.50162866 0.32121212 1.        ]\n",
      " [0.85925926 0.77876106 0.02330508 ... 0.74918567 0.79090909 1.        ]\n",
      " [0.66296296 0.51917404 0.         ... 0.5276873  0.4969697  0.        ]\n",
      " ...\n",
      " [0.35185185 0.30088496 0.         ... 0.35179153 0.33333333 0.        ]\n",
      " [0.34814815 0.45427729 0.         ... 0.35504886 0.5        0.        ]\n",
      " [0.51481481 0.2920354  0.13983051 ... 0.38762215 0.26060606 1.        ]]\n"
     ]
    }
   ],
   "source": [
    "min_max_scalar = preprocessing.MinMaxScaler()\n",
    "X_train_minmax = min_max_scalar.fit_transform(X)\n",
    "print(X_train_minmax)"
   ]
  },
  {
   "cell_type": "markdown",
   "metadata": {},
   "source": [
    "## Q2.1 Using cross-validation to perform classification using KNN with the scaled features as input to the KNN classifier."
   ]
  },
  {
   "cell_type": "code",
   "execution_count": 11,
   "metadata": {},
   "outputs": [
    {
     "name": "stdout",
     "output_type": "stream",
     "text": [
      "precision [0.73170732 0.89855072 0.79310345 0.7699115  0.79646018]\n",
      "recall [0.57692308 0.59615385 0.89320388 0.84466019 0.87378641]\n",
      "f1_score [0.64516129 0.71676301 0.84018265 0.80555556 0.83333333]\n",
      "Test_accuracy:  [0.68115942 0.76328502 0.83091787 0.7961165  0.82524272]\n",
      "Train_accuracy:  [0.91525424 0.91162228 0.90193705 0.9165659  0.89963724]\n",
      "Fit_time / Train_time:  [0.00114608 0.00099897 0.         0.         0.        ]\n",
      "Score_time / Test_time:  [0.0175004  0.01073742 0.01063609 0.00725698 0.0149858 ]\n"
     ]
    }
   ],
   "source": [
    "from sklearn.metrics import recall_score\n",
    "from sklearn.model_selection import cross_val_predict\n",
    "from sklearn.metrics import confusion_matrix\n",
    "\n",
    "neigh = KNeighborsClassifier(n_neighbors=3)\n",
    "\n",
    "scoring = {'accuracy': 'accuracy',\n",
    "           'recall': 'recall',\n",
    "           'precision': 'precision',\n",
    "           'f1': 'f1'}\n",
    "\n",
    "cv_result = cross_validate(neigh, X_train_minmax, Y, cv=5, scoring=scoring, return_train_score= True)\n",
    "\n",
    "print('precision', cv_result['test_precision'])\n",
    "print('recall', cv_result['test_recall'])\n",
    "print('f1_score', cv_result['test_f1'])\n",
    "print('Test_accuracy: ', cv_result['test_accuracy'])\n",
    "print('Train_accuracy: ', cv_result['train_accuracy'])\n",
    "print('Fit_time / Train_time: ', cv_result['fit_time'])\n",
    "print('Score_time / Test_time: ', cv_result['score_time'])\n"
   ]
  },
  {
   "cell_type": "markdown",
   "metadata": {},
   "source": [
    "## Q2.1 Using cross-validation to perform classification using SVC_poly (degree = 10) with the scaled features as input to the SVC poly classifier."
   ]
  },
  {
   "cell_type": "code",
   "execution_count": 13,
   "metadata": {},
   "outputs": [
    {
     "name": "stdout",
     "output_type": "stream",
     "text": [
      "Fit_time / Train_time:  [0.0228982  0.03534436 0.04482484 0.03767776 0.03998232]\n",
      "Score_time / Test_time:  [0.00710058 0.00534296 0.00589633 0.00518656 0.00562668]\n",
      "Test_accuracy:  [0.56038647 0.80676329 0.76811594 0.82038835 0.83009709]\n",
      "Train_accuracy:  [1. 1. 1. 1. 1.]\n",
      "recall [0.57692308 0.59615385 0.89320388 0.84466019 0.87378641]\n",
      "f1_score [0.64516129 0.71676301 0.84018265 0.80555556 0.83333333]\n",
      "precision [0.73170732 0.89855072 0.79310345 0.7699115  0.79646018]\n"
     ]
    }
   ],
   "source": [
    "svc_poly = SVC(kernel='poly', degree = 10)\r\n",
    "\r\n",
    "cv_result_poly_kernal = cross_validate(svc_poly, X_train_minmax, Y, cv=5, scoring = scoring, return_train_score= True)\r\n",
    "\r\n",
    "print('precision', cv_result_poly_kernal['test_precision'])\r\n",
    "print('recall', cv_result_poly_kernal['test_recall'])\r\n",
    "print('f1_score', cv_result_poly_kernal['test_f1'])\r\n",
    "print('Test_accuracy: ', cv_result_poly_kernal['test_accuracy'])\r\n",
    "print('Train_accuracy: ', cv_result_poly_kernal['train_accuracy'])\r\n",
    "print('Fit_time / Train_time: ', cv_result_poly_kernal['fit_time'])\r\n",
    "print('Score_time / Test_time: ', cv_result_poly_kernal['score_time'])"
   ]
  },
  {
   "cell_type": "markdown",
   "metadata": {},
   "source": [
    "### After feature scaling for KNN and SVC poly classifier we can see that overall performance is the same for both classifiers. There isn't a remarkable variance between perfromance metrics except for train and test time where KNN had a lower Train time but this doesnt mean that KNN is better as training team is not very very significant as it depends on the machine. If an algorithm has a higher training time but testing accuracy is good then in this case we can say the both KNN and SVC poly act similar"
   ]
  },
  {
   "cell_type": "markdown",
   "metadata": {},
   "source": [
    "## Q3 Apply feature selection, using SelectKBest to select the best features to use."
   ]
  },
  {
   "cell_type": "code",
   "execution_count": 14,
   "metadata": {},
   "outputs": [
    {
     "data": {
      "text/plain": [
       "(1033, 10)"
      ]
     },
     "execution_count": 14,
     "metadata": {},
     "output_type": "execute_result"
    }
   ],
   "source": [
    "from sklearn.feature_selection import SelectKBest, chi2 \n",
    "\n",
    "X.shape\n",
    "\n",
    "X_selectKBest = SelectKBest(chi2, k = 10).fit_transform(X, Y)\n",
    "\n",
    "X_selectKBest.shape"
   ]
  },
  {
   "cell_type": "markdown",
   "metadata": {},
   "source": [
    "## Q4.1 Using cross-validation to perform classification using KNN with the selected features as input to the KNN classifier."
   ]
  },
  {
   "cell_type": "code",
   "execution_count": 15,
   "metadata": {},
   "outputs": [
    {
     "name": "stdout",
     "output_type": "stream",
     "text": [
      "precision [0.63551402 0.91666667 0.71428571 0.78640777 0.79464286]\n",
      "recall [0.65384615 0.63461538 0.82524272 0.78640777 0.86407767]\n",
      "f1_score [0.64454976 0.75       0.76576577 0.78640777 0.82790698]\n",
      "Test_accuracy:  [0.63768116 0.78743961 0.74879227 0.78640777 0.82038835]\n",
      "Train_accuracy:  [0.91162228 0.87893462 0.89588378 0.89480048 0.88996372]\n",
      "Fit_time / Train_time:  [0.00305796 0.00100613 0.00299001 0.0037601  0.00199485]\n",
      "Score_time / Test_time:  [0.01168323 0.00674891 0.01029396 0.00886297 0.01059532]\n"
     ]
    }
   ],
   "source": [
    "neigh = KNeighborsClassifier(n_neighbors=3)\n",
    "\n",
    "cv_result = cross_validate(neigh, X_selectKBest, Y, cv=5, scoring=scoring, return_train_score= True)\n",
    "\n",
    "\n",
    "print('precision', cv_result['test_precision'])\n",
    "print('recall', cv_result['test_recall'])\n",
    "print('f1_score', cv_result['test_f1'])\n",
    "print('Test_accuracy: ', cv_result['test_accuracy'])\n",
    "print('Train_accuracy: ', cv_result['train_accuracy'])\n",
    "print('Fit_time / Train_time: ', cv_result['fit_time'])\n",
    "print('Score_time / Test_time: ', cv_result['score_time'])"
   ]
  },
  {
   "cell_type": "markdown",
   "metadata": {},
   "source": [
    "## Q4.2 Using cross-validation to perform classification using SVC_poly (degree = 10) with the selected features as input to the SVC poly classifier."
   ]
  },
  {
   "cell_type": "code",
   "execution_count": 16,
   "metadata": {},
   "outputs": [
    {
     "name": "stdout",
     "output_type": "stream",
     "text": [
      "Fit_time / Train_time:  [0.8665998  2.04491019 3.62357473 2.89157486 2.42280793]\n",
      "Score_time / Test_time:  [0.         0.00394773 0.00667691 0.00410175 0.00745392]\n",
      "Test_accuracy:  [0.6763285  0.76811594 0.82608696 0.77669903 0.86407767]\n",
      "Train_accuracy:  [0.89346247 0.87409201 0.86924939 0.87666264 0.87545345]\n",
      "recall [0.65384615 0.63461538 0.82524272 0.78640777 0.86407767]\n",
      "f1_score [0.64454976 0.75       0.76576577 0.78640777 0.82790698]\n",
      "precision [0.63551402 0.91666667 0.71428571 0.78640777 0.79464286]\n"
     ]
    }
   ],
   "source": [
    "svc_poly = SVC(kernel='poly', degree = 10)\r\n",
    "\r\n",
    "cv_result_poly_kernal = cross_validate(svc_poly, X_selectKBest, Y, cv=5, scoring = scoring, return_train_score= True)\r\n",
    "\r\n",
    "print('precision', cv_result_poly_kernal['test_precision'])\r\n",
    "print('recall', cv_result_poly_kernal['test_recall'])\r\n",
    "print('f1_score', cv_result_poly_kernal['test_f1'])\r\n",
    "print('Test_accuracy: ', cv_result_poly_kernal['test_accuracy'])\r\n",
    "print('Train_accuracy: ', cv_result_poly_kernal['train_accuracy'])\r\n",
    "print('Fit_time / Train_time: ', cv_result_poly_kernal['fit_time'])\r\n",
    "print('Score_time / Test_time: ', cv_result_poly_kernal['score_time'])"
   ]
  },
  {
   "cell_type": "markdown",
   "metadata": {},
   "source": [
    "###  After feature selection for KNN and SVC poly classifier we can see that overall performance is the same for both classifiers. There isn't a remarkable variance between perfromance metrics except for train and test time where KNN had a lower Train time but this doesnt mean that KNN is better as training team is not very very significant as it depends on the machine. If an algorithm has a higher training time but testing accuracy is good then in this case we can say the both KNN and SVC poly act similar"
   ]
  },
  {
   "cell_type": "markdown",
   "metadata": {},
   "source": [
    "## Q5 Applying PCA on oour dataset, printing the explained variance by each of the principle components (PCs) and selecting the first few components that explain most of the variance 70%+"
   ]
  },
  {
   "cell_type": "code",
   "execution_count": 17,
   "metadata": {},
   "outputs": [
    {
     "name": "stdout",
     "output_type": "stream",
     "text": [
      "[0.44877112 0.18154687]\n"
     ]
    }
   ],
   "source": [
    "from sklearn.decomposition import PCA\n",
    "\n",
    "pca = PCA(n_components=2) \n",
    "pca.fit(X) \n",
    "\n",
    "PCA(copy=True, iterated_power='auto', n_components=2, random_state=None, svd_solver='auto', tol=0.0, whiten=False) \n",
    "\n",
    "print(pca.explained_variance_ratio_) "
   ]
  },
  {
   "cell_type": "markdown",
   "metadata": {},
   "source": [
    "## Q6.1 Using cross-validation to perform classification using KNN with the first few PCAs that explain most of the variance as input to the KNN classifier."
   ]
  },
  {
   "cell_type": "code",
   "execution_count": 18,
   "metadata": {},
   "outputs": [
    {
     "name": "stdout",
     "output_type": "stream",
     "text": [
      "precision [0.6509434  0.95522388 0.74336283 0.78761062 0.82882883]\n",
      "recall [0.66346154 0.61538462 0.81553398 0.86407767 0.89320388]\n",
      "f1_score [0.65714286 0.74853801 0.77777778 0.82407407 0.85981308]\n",
      "Test_accuracy:  [0.65217391 0.79227053 0.76811594 0.81553398 0.85436893]\n",
      "Train_accuracy:  [0.93583535 0.92493947 0.92615012 0.92261185 0.91293833]\n",
      "Fit_time / Train_time:  [0.00099826 0.         0.00200081 0.0009973  0.0010972 ]\n",
      "Score_time / Test_time:  [0.01361251 0.01368308 0.01110935 0.01004505 0.01172376]\n"
     ]
    }
   ],
   "source": [
    "neigh = KNeighborsClassifier(n_neighbors=3)\n",
    "\n",
    "cv_result = cross_validate(neigh, X, Y, cv=5, scoring=scoring, return_train_score= True)\n",
    "\n",
    "\n",
    "print('precision', cv_result['test_precision'])\n",
    "print('recall', cv_result['test_recall'])\n",
    "print('f1_score', cv_result['test_f1'])\n",
    "print('Test_accuracy: ', cv_result['test_accuracy'])\n",
    "print('Train_accuracy: ', cv_result['train_accuracy'])\n",
    "print('Fit_time / Train_time: ', cv_result['fit_time'])\n",
    "print('Score_time / Test_time: ', cv_result['score_time'])"
   ]
  },
  {
   "cell_type": "markdown",
   "metadata": {},
   "source": [
    "## Q6.2 Using cross-validation to perform classification using SVC poly with the first few PCAs that explain most of the variance as input to the SVC poly classifier."
   ]
  },
  {
   "cell_type": "code",
   "execution_count": 20,
   "metadata": {},
   "outputs": [
    {
     "name": "stdout",
     "output_type": "stream",
     "text": [
      "Fit_time / Train_time:  [0.02476025 0.01771259 0.01551008 0.01810074 0.01858664]\n",
      "Score_time / Test_time:  [0.00650311 0.00451159 0.00715971 0.00609064 0.00649595]\n",
      "Test_accuracy:  [0.72463768 0.80193237 0.76811594 0.78640777 0.82038835]\n",
      "Train_accuracy:  [0.81113801 0.80145278 0.80508475 0.77992745 0.78718259]\n",
      "recall [0.66346154 0.61538462 0.81553398 0.86407767 0.89320388]\n",
      "f1_score [0.65714286 0.74853801 0.77777778 0.82407407 0.85981308]\n",
      "precision [0.6509434  0.95522388 0.74336283 0.78761062 0.82882883]\n"
     ]
    }
   ],
   "source": [
    "svc_poly = SVC(kernel='poly', degree = 10)\r\n",
    "\r\n",
    "cv_result_poly_kernal = cross_validate(svc_poly, X, Y, cv=5, scoring = scoring, return_train_score= True)\r\n",
    "\r\n",
    "print('precision', cv_result_poly_kernal['test_precision'])\r\n",
    "print('recall', cv_result_poly_kernal['test_recall'])\r\n",
    "print('f1_score', cv_result_poly_kernal['test_f1'])\r\n",
    "print('Test_accuracy: ', cv_result_poly_kernal['test_accuracy'])\r\n",
    "print('Train_accuracy: ', cv_result_poly_kernal['train_accuracy'])\r\n",
    "print('Fit_time / Train_time: ', cv_result_poly_kernal['fit_time'])\r\n",
    "print('Score_time / Test_time: ', cv_result_poly_kernal['score_time'])\r\n"
   ]
  },
  {
   "cell_type": "markdown",
   "metadata": {
    "collapsed": false
   },
   "source": [
    "## 7 "
   ]
  }
 ],
 "metadata": {
  "language_info": {},
  "orig_nbformat": 3
 },
 "nbformat": 4,
 "nbformat_minor": 2
}