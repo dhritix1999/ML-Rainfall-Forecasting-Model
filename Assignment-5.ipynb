{
 "metadata": {
  "language_info": {
   "codemirror_mode": {
    "name": "ipython",
    "version": 3
   },
   "file_extension": ".py",
   "mimetype": "text/x-python",
   "name": "python",
   "nbconvert_exporter": "python",
   "pygments_lexer": "ipython3",
   "version": "3.9.2"
  },
  "orig_nbformat": 2,
  "kernelspec": {
   "name": "python392jvsc74a57bd0565403b5684cc72ad1df74761f0871441393b3f5c164e2ef07e55caf67f37f7a",
   "display_name": "Python 3.9.2 64-bit"
  },
  "metadata": {
   "interpreter": {
    "hash": "565403b5684cc72ad1df74761f0871441393b3f5c164e2ef07e55caf67f37f7a"
   }
  }
 },
 "nbformat": 4,
 "nbformat_minor": 2,
 "cells": [
  {
   "cell_type": "code",
   "execution_count": 1,
   "metadata": {},
   "outputs": [
    {
     "output_type": "stream",
     "name": "stdout",
     "text": [
      "[[18.5 19.7 22.4 ... 18.9 18.6  1. ]\n [23.7 36.3  2.2 ... 26.5 34.1  1. ]\n [18.4 27.5  0.  ... 19.7 24.4  0. ]\n ...\n [10.  20.1  0.  ... 14.3 19.   0. ]\n [ 9.9 25.3  0.  ... 14.4 24.5  0. ]\n [14.4 19.8 13.2 ... 15.4 16.6  1. ]]\n"
     ]
    }
   ],
   "source": [
    "%store -r X\n",
    "print(X)"
   ]
  },
  {
   "cell_type": "code",
   "execution_count": 2,
   "metadata": {},
   "outputs": [
    {
     "output_type": "stream",
     "name": "stdout",
     "text": [
      "[1 1 1 ... 0 0 0]\n"
     ]
    }
   ],
   "source": [
    "%store -r Y\n",
    "print(Y)\n"
   ]
  },
  {
   "cell_type": "code",
   "execution_count": 6,
   "metadata": {},
   "outputs": [
    {
     "output_type": "execute_result",
     "data": {
      "text/plain": [
       "(1033, 20)"
      ]
     },
     "metadata": {},
     "execution_count": 6
    }
   ],
   "source": [
    "X.shape"
   ]
  },
  {
   "cell_type": "code",
   "execution_count": 7,
   "metadata": {},
   "outputs": [],
   "source": [
    "from sklearn import preprocessing \n",
    "import numpy as np\n",
    "from sklearn.model_selection import KFold\n",
    "from sklearn.model_selection import cross_validate\n",
    "from sklearn.neighbors import KNeighborsClassifier\n",
    "from sklearn.svm import SVC\n"
   ]
  },
  {
   "source": [
    "Applying feature scaling using MinMaxScaler to scale our features."
   ],
   "cell_type": "markdown",
   "metadata": {}
  },
  {
   "cell_type": "code",
   "execution_count": 9,
   "metadata": {},
   "outputs": [
    {
     "output_type": "stream",
     "name": "stdout",
     "text": [
      "[[0.66666667 0.28908555 0.23728814 ... 0.50162866 0.32121212 1.        ]\n [0.85925926 0.77876106 0.02330508 ... 0.74918567 0.79090909 1.        ]\n [0.66296296 0.51917404 0.         ... 0.5276873  0.4969697  0.        ]\n ...\n [0.35185185 0.30088496 0.         ... 0.35179153 0.33333333 0.        ]\n [0.34814815 0.45427729 0.         ... 0.35504886 0.5        0.        ]\n [0.51481481 0.2920354  0.13983051 ... 0.38762215 0.26060606 1.        ]]\n"
     ]
    }
   ],
   "source": [
    "min_max_scalar = preprocessing.MinMaxScaler()\n",
    "X_train_minmax = min_max_scalar.fit_transform(X)\n",
    "print(X_train_minmax)"
   ]
  },
  {
   "source": [
    "Using cross-validation to perform classification using KNN with the scaled features as input to the KNN classifier."
   ],
   "cell_type": "markdown",
   "metadata": {}
  },
  {
   "cell_type": "code",
   "execution_count": 11,
   "metadata": {},
   "outputs": [
    {
     "output_type": "stream",
     "name": "stdout",
     "text": [
      "precision [0.73170732 0.89855072 0.79310345 0.7699115  0.79646018]\nrecall [0.57692308 0.59615385 0.89320388 0.84466019 0.87378641]\nf1_score [0.64516129 0.71676301 0.84018265 0.80555556 0.83333333]\nTest_accuracy:  [0.68115942 0.76328502 0.83091787 0.7961165  0.82524272]\nTrain_accuracy:  [0.91525424 0.91162228 0.90193705 0.9165659  0.89963724]\nFit_time / Train_time:  [0.00114608 0.00099897 0.         0.         0.        ]\nScore_time / Test_time:  [0.0175004  0.01073742 0.01063609 0.00725698 0.0149858 ]\n"
     ]
    }
   ],
   "source": [
    "from sklearn.metrics import recall_score\n",
    "from sklearn.model_selection import cross_val_predict\n",
    "from sklearn.metrics import confusion_matrix\n",
    "\n",
    "neigh = KNeighborsClassifier(n_neighbors=3)\n",
    "\n",
    "scoring = {'accuracy': 'accuracy',\n",
    "           'recall': 'recall',\n",
    "           'precision': 'precision',\n",
    "           'f1': 'f1'}\n",
    "\n",
    "cv_result = cross_validate(neigh, X_train_minmax, Y, cv=5, scoring=scoring, return_train_score= True)\n",
    "\n",
    "print('precision', cv_result['test_precision'])\n",
    "print('recall', cv_result['test_recall'])\n",
    "print('f1_score', cv_result['test_f1'])\n",
    "print('Test_accuracy: ', cv_result['test_accuracy'])\n",
    "print('Train_accuracy: ', cv_result['train_accuracy'])\n",
    "print('Fit_time / Train_time: ', cv_result['fit_time'])\n",
    "print('Score_time / Test_time: ', cv_result['score_time'])\n"
   ]
  },
  {
   "source": [
    "Using cross-validation to perform classification using SVC_poly (degree = 10) with the scaled features as input to the SVC poly classifier."
   ],
   "cell_type": "markdown",
   "metadata": {}
  },
  {
   "cell_type": "code",
   "execution_count": 13,
   "metadata": {},
   "outputs": [
    {
     "output_type": "stream",
     "name": "stdout",
     "text": [
      "Fit_time / Train_time:  [0.0228982  0.03534436 0.04482484 0.03767776 0.03998232]\nScore_time / Test_time:  [0.00710058 0.00534296 0.00589633 0.00518656 0.00562668]\nTest_accuracy:  [0.56038647 0.80676329 0.76811594 0.82038835 0.83009709]\nTrain_accuracy:  [1. 1. 1. 1. 1.]\nrecall [0.57692308 0.59615385 0.89320388 0.84466019 0.87378641]\nf1_score [0.64516129 0.71676301 0.84018265 0.80555556 0.83333333]\nprecision [0.73170732 0.89855072 0.79310345 0.7699115  0.79646018]\n"
     ]
    }
   ],
   "source": [
    "svc_poly = SVC(kernel='poly', degree = 10)\n",
    "\n",
    "cv_result_poly_kernal = cross_validate(svc_poly, X_train_minmax, Y, cv=5, scoring = scoring, return_train_score= True)\n",
    "\n",
    "print('Fit_time / Train_time: ', cv_result_poly_kernal['fit_time'])\n",
    "print('Score_time / Test_time: ', cv_result_poly_kernal['score_time'])\n",
    "print('Test_accuracy: ', cv_result_poly_kernal['test_accuracy'])\n",
    "print('Train_accuracy: ', cv_result_poly_kernal['train_accuracy'])\n",
    "print('recall', cv_result['test_recall'])\n",
    "print('f1_score', cv_result['test_f1'])\n",
    "print('precision', cv_result['test_precision'])"
   ]
  },
  {
   "source": [
    "Apply feature selection, using SelectKBest to select the best features to use."
   ],
   "cell_type": "markdown",
   "metadata": {}
  },
  {
   "cell_type": "code",
   "execution_count": 14,
   "metadata": {},
   "outputs": [
    {
     "output_type": "execute_result",
     "data": {
      "text/plain": [
       "(1033, 10)"
      ]
     },
     "metadata": {},
     "execution_count": 14
    }
   ],
   "source": [
    "from sklearn.feature_selection import SelectKBest, chi2 \n",
    "\n",
    "X.shape\n",
    "\n",
    "X_selectKBest = SelectKBest(chi2, k = 10).fit_transform(X, Y)\n",
    "\n",
    "X_selectKBest.shape"
   ]
  },
  {
   "cell_type": "code",
   "execution_count": null,
   "metadata": {},
   "outputs": [],
   "source": [
    "Using cross-validation to perform classification using KNN with the selected features as input to the KNN classifier."
   ]
  },
  {
   "cell_type": "code",
   "execution_count": 15,
   "metadata": {},
   "outputs": [
    {
     "output_type": "stream",
     "name": "stdout",
     "text": [
      "precision [0.63551402 0.91666667 0.71428571 0.78640777 0.79464286]\nrecall [0.65384615 0.63461538 0.82524272 0.78640777 0.86407767]\nf1_score [0.64454976 0.75       0.76576577 0.78640777 0.82790698]\nTest_accuracy:  [0.63768116 0.78743961 0.74879227 0.78640777 0.82038835]\nTrain_accuracy:  [0.91162228 0.87893462 0.89588378 0.89480048 0.88996372]\nFit_time / Train_time:  [0.00305796 0.00100613 0.00299001 0.0037601  0.00199485]\nScore_time / Test_time:  [0.01168323 0.00674891 0.01029396 0.00886297 0.01059532]\n"
     ]
    }
   ],
   "source": [
    "\n",
    "cv_result = cross_validate(neigh, X_selectKBest, Y, cv=5, scoring=scoring, return_train_score= True)\n",
    "\n",
    "neigh = KNeighborsClassifier(n_neighbors=3)\n",
    "\n",
    "print('precision', cv_result['test_precision'])\n",
    "print('recall', cv_result['test_recall'])\n",
    "print('f1_score', cv_result['test_f1'])\n",
    "print('Test_accuracy: ', cv_result['test_accuracy'])\n",
    "print('Train_accuracy: ', cv_result['train_accuracy'])\n",
    "print('Fit_time / Train_time: ', cv_result['fit_time'])\n",
    "print('Score_time / Test_time: ', cv_result['score_time'])"
   ]
  },
  {
   "source": [
    "Using cross-validation to perform classification using SVC_poly (degree = 10) with the selected features as input to the SVC poly classifier."
   ],
   "cell_type": "markdown",
   "metadata": {}
  },
  {
   "cell_type": "code",
   "execution_count": 16,
   "metadata": {},
   "outputs": [
    {
     "output_type": "stream",
     "name": "stdout",
     "text": [
      "Fit_time / Train_time:  [0.8665998  2.04491019 3.62357473 2.89157486 2.42280793]\nScore_time / Test_time:  [0.         0.00394773 0.00667691 0.00410175 0.00745392]\nTest_accuracy:  [0.6763285  0.76811594 0.82608696 0.77669903 0.86407767]\nTrain_accuracy:  [0.89346247 0.87409201 0.86924939 0.87666264 0.87545345]\nrecall [0.65384615 0.63461538 0.82524272 0.78640777 0.86407767]\nf1_score [0.64454976 0.75       0.76576577 0.78640777 0.82790698]\nprecision [0.63551402 0.91666667 0.71428571 0.78640777 0.79464286]\n"
     ]
    }
   ],
   "source": [
    "svc_poly = SVC(kernel='poly', degree = 10)\n",
    "\n",
    "cv_result_poly_kernal = cross_validate(svc_poly, X_selectKBest, Y, cv=5, scoring = scoring, return_train_score= True)\n",
    "\n",
    "print('Fit_time / Train_time: ', cv_result_poly_kernal['fit_time'])\n",
    "print('Score_time / Test_time: ', cv_result_poly_kernal['score_time'])\n",
    "print('Test_accuracy: ', cv_result_poly_kernal['test_accuracy'])\n",
    "print('Train_accuracy: ', cv_result_poly_kernal['train_accuracy'])\n",
    "print('recall', cv_result['test_recall'])\n",
    "print('f1_score', cv_result['test_f1'])\n",
    "print('precision', cv_result['test_precision'])"
   ]
  },
  {
   "cell_type": "code",
   "execution_count": null,
   "metadata": {},
   "outputs": [],
   "source": []
  }
 ]
}