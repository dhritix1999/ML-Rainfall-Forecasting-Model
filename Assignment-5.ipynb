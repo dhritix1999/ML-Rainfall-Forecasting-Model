{
 "cells": [
  {
   "cell_type": "code",
   "execution_count": 39,
   "metadata": {},
   "outputs": [
    {
     "output_type": "stream",
     "name": "stdout",
     "text": [
      "[[18.5 19.7 22.4 ... 18.9 18.6  1. ]\n [23.7 36.3  2.2 ... 26.5 34.1  1. ]\n [18.4 27.5  0.  ... 19.7 24.4  0. ]\n ...\n [10.  20.1  0.  ... 14.3 19.   0. ]\n [ 9.9 25.3  0.  ... 14.4 24.5  0. ]\n [14.4 19.8 13.2 ... 15.4 16.6  1. ]]\n"
     ]
    }
   ],
   "source": [
    "%store -r X\n",
    "print(X)"
   ]
  },
  {
   "cell_type": "code",
   "execution_count": 40,
   "metadata": {},
   "outputs": [
    {
     "output_type": "stream",
     "name": "stdout",
     "text": [
      "[1 1 1 ... 0 0 0]\n"
     ]
    }
   ],
   "source": [
    "%store -r Y\n",
    "print(Y)\n"
   ]
  },
  {
   "cell_type": "code",
   "execution_count": 41,
   "metadata": {},
   "outputs": [
    {
     "output_type": "execute_result",
     "data": {
      "text/plain": [
       "(1033, 20)"
      ]
     },
     "metadata": {},
     "execution_count": 41
    }
   ],
   "source": [
    "X.shape"
   ]
  },
  {
   "cell_type": "code",
   "execution_count": 42,
   "metadata": {},
   "outputs": [],
   "source": [
    "from sklearn import preprocessing \n",
    "import numpy as np\n",
    "from sklearn.model_selection import KFold\n",
    "from sklearn.model_selection import cross_validate\n",
    "from sklearn.neighbors import KNeighborsClassifier\n",
    "from sklearn.svm import SVC\n"
   ]
  },
  {
   "cell_type": "markdown",
   "metadata": {},
   "source": [
    "## Q1 Applying feature scaling using MinMaxScaler to scale our features."
   ]
  },
  {
   "cell_type": "code",
   "execution_count": 43,
   "metadata": {},
   "outputs": [
    {
     "output_type": "stream",
     "name": "stdout",
     "text": [
      "[[0.66666667 0.28908555 0.23728814 ... 0.50162866 0.32121212 1.        ]\n [0.85925926 0.77876106 0.02330508 ... 0.74918567 0.79090909 1.        ]\n [0.66296296 0.51917404 0.         ... 0.5276873  0.4969697  0.        ]\n ...\n [0.35185185 0.30088496 0.         ... 0.35179153 0.33333333 0.        ]\n [0.34814815 0.45427729 0.         ... 0.35504886 0.5        0.        ]\n [0.51481481 0.2920354  0.13983051 ... 0.38762215 0.26060606 1.        ]]\n"
     ]
    }
   ],
   "source": [
    "min_max_scalar = preprocessing.MinMaxScaler()\n",
    "X_train_minmax = min_max_scalar.fit_transform(X)\n",
    "print(X_train_minmax)"
   ]
  },
  {
   "cell_type": "markdown",
   "metadata": {},
   "source": [
    "## Q2.1 Using cross-validation to perform classification using KNN with the scaled features as input to the KNN classifier."
   ]
  },
  {
   "cell_type": "code",
   "execution_count": 44,
   "metadata": {},
   "outputs": [
    {
     "output_type": "stream",
     "name": "stdout",
     "text": [
      "precision [0.73170732 0.89855072 0.79310345 0.7699115  0.79646018]\nrecall [0.57692308 0.59615385 0.89320388 0.84466019 0.87378641]\nf1_score [0.64516129 0.71676301 0.84018265 0.80555556 0.83333333]\nTest_accuracy:  [0.68115942 0.76328502 0.83091787 0.7961165  0.82524272]\nTrain_accuracy:  [0.91525424 0.91162228 0.90193705 0.9165659  0.89963724]\nFit_time / Train_time:  [0.00015473 0.         0.         0.00072956 0.        ]\nScore_time / Test_time:  [0.01274371 0.00959754 0.01189899 0.0033505  0.01469827]\n"
     ]
    }
   ],
   "source": [
    "from sklearn.metrics import recall_score\n",
    "from sklearn.model_selection import cross_val_predict\n",
    "from sklearn.metrics import confusion_matrix\n",
    "\n",
    "neigh = KNeighborsClassifier(n_neighbors=3)\n",
    "\n",
    "scoring = {'accuracy': 'accuracy',\n",
    "           'recall': 'recall',\n",
    "           'precision': 'precision',\n",
    "           'f1': 'f1'}\n",
    "\n",
    "cv_result = cross_validate(neigh, X_train_minmax, Y, cv=5, scoring=scoring, return_train_score= True)\n",
    "\n",
    "print('precision', cv_result['test_precision'])\n",
    "print('recall', cv_result['test_recall'])\n",
    "print('f1_score', cv_result['test_f1'])\n",
    "print('Test_accuracy: ', cv_result['test_accuracy'])\n",
    "print('Train_accuracy: ', cv_result['train_accuracy'])\n",
    "print('Fit_time / Train_time: ', cv_result['fit_time'])\n",
    "print('Score_time / Test_time: ', cv_result['score_time'])\n"
   ]
  },
  {
   "cell_type": "markdown",
   "metadata": {},
   "source": [
    "## Q2.1 Using cross-validation to perform classification using SVC_poly (degree = 10) with the scaled features as input to the SVC poly classifier."
   ]
  },
  {
   "cell_type": "code",
   "execution_count": 45,
   "metadata": {},
   "outputs": [
    {
     "output_type": "stream",
     "name": "stdout",
     "text": [
      "precision [0.56989247 0.8902439  0.73109244 0.8        0.78813559]\nrecall [0.50961538 0.70192308 0.84466019 0.85436893 0.90291262]\nf1_score [0.53807107 0.78494624 0.78378378 0.82629108 0.84162896]\nTest_accuracy:  [0.56038647 0.80676329 0.76811594 0.82038835 0.83009709]\nTrain_accuracy:  [1. 1. 1. 1. 1.]\nFit_time / Train_time:  [0.02656794 0.0314393  0.03886175 0.05106091 0.03841734]\nScore_time / Test_time:  [0.00412798 0.0036881  0.00103402 0.00920606 0.        ]\n"
     ]
    }
   ],
   "source": [
    "svc_poly = SVC(kernel='poly', degree = 10)\r\n",
    "\r\n",
    "cv_result_poly_kernal = cross_validate(svc_poly, X_train_minmax, Y, cv=5, scoring = scoring, return_train_score= True)\r\n",
    "\r\n",
    "print('precision', cv_result_poly_kernal['test_precision'])\r\n",
    "print('recall', cv_result_poly_kernal['test_recall'])\r\n",
    "print('f1_score', cv_result_poly_kernal['test_f1'])\r\n",
    "print('Test_accuracy: ', cv_result_poly_kernal['test_accuracy'])\r\n",
    "print('Train_accuracy: ', cv_result_poly_kernal['train_accuracy'])\r\n",
    "print('Fit_time / Train_time: ', cv_result_poly_kernal['fit_time'])\r\n",
    "print('Score_time / Test_time: ', cv_result_poly_kernal['score_time'])"
   ]
  },
  {
   "cell_type": "markdown",
   "metadata": {},
   "source": [
    "### After feature scaling for KNN and SVC poly classifier we can see that overall performance is the same for both classifiers. There isn't a remarkable variance between perfromance metrics except for train and test time where KNN had a lower Train time but this doesnt mean that KNN is better as training team is not very very significant as it depends on the machine. If an algorithm has a higher training time but testing accuracy is good then in this case we can say the both KNN and SVC poly act similar"
   ]
  },
  {
   "cell_type": "markdown",
   "metadata": {},
   "source": [
    "## Q3 Apply feature selection, using SelectKBest to select the best features to use."
   ]
  },
  {
   "cell_type": "code",
   "execution_count": 46,
   "metadata": {},
   "outputs": [
    {
     "output_type": "execute_result",
     "data": {
      "text/plain": [
       "(1033, 10)"
      ]
     },
     "metadata": {},
     "execution_count": 46
    }
   ],
   "source": [
    "from sklearn.feature_selection import SelectKBest, chi2 \n",
    "\n",
    "X.shape\n",
    "\n",
    "X_selectKBest = SelectKBest(chi2, k = 10).fit_transform(X_train_minmax, Y)\n",
    "\n",
    "X_selectKBest.shape"
   ]
  },
  {
   "cell_type": "markdown",
   "metadata": {},
   "source": [
    "## Q4.1 Using cross-validation to perform classification using KNN with the selected features as input to the KNN classifier."
   ]
  },
  {
   "cell_type": "code",
   "execution_count": 47,
   "metadata": {},
   "outputs": [
    {
     "output_type": "stream",
     "name": "stdout",
     "text": [
      "precision [0.7        0.86666667 0.70833333 0.82       0.78181818]\nrecall [0.67307692 0.625      0.82524272 0.7961165  0.83495146]\nf1_score [0.68627451 0.72625698 0.76233184 0.80788177 0.80751174]\nTest_accuracy:  [0.69082126 0.76328502 0.74396135 0.81067961 0.80097087]\nTrain_accuracy:  [0.92009685 0.89346247 0.89467312 0.90810157 0.88512696]\nFit_time / Train_time:  [0.00210619 0.00317502 0.         0.         0.0009973 ]\nScore_time / Test_time:  [0.0110116  0.00358295 0.01461244 0.01675081 0.00803304]\n"
     ]
    }
   ],
   "source": [
    "neigh = KNeighborsClassifier(n_neighbors=3)\n",
    "\n",
    "cv_result = cross_validate(neigh, X_selectKBest, Y, cv=5, scoring=scoring, return_train_score= True)\n",
    "\n",
    "\n",
    "print('precision', cv_result['test_precision'])\n",
    "print('recall', cv_result['test_recall'])\n",
    "print('f1_score', cv_result['test_f1'])\n",
    "print('Test_accuracy: ', cv_result['test_accuracy'])\n",
    "print('Train_accuracy: ', cv_result['train_accuracy'])\n",
    "print('Fit_time / Train_time: ', cv_result['fit_time'])\n",
    "print('Score_time / Test_time: ', cv_result['score_time'])"
   ]
  },
  {
   "cell_type": "markdown",
   "metadata": {},
   "source": [
    "## Q4.2 Using cross-validation to perform classification using SVC_poly (degree = 10) with the selected features as input to the SVC poly classifier."
   ]
  },
  {
   "cell_type": "code",
   "execution_count": 48,
   "metadata": {},
   "outputs": [
    {
     "output_type": "stream",
     "name": "stdout",
     "text": [
      "precision [0.61061947 0.8        0.73451327 0.69724771 0.72173913]\nrecall [0.66346154 0.61538462 0.80582524 0.73786408 0.80582524]\nf1_score [0.6359447  0.69565217 0.76851852 0.71698113 0.76146789]\nTest_accuracy:  [0.61835749 0.7294686  0.75845411 0.70873786 0.74757282]\nTrain_accuracy:  [0.99878935 1.         0.99878935 0.99879081 0.99758162]\nFit_time / Train_time:  [ 2.00340748  6.69964695  7.13745737 12.23934674 11.64359474]\nScore_time / Test_time:  [0.00698352 0.00525165 0.00323105 0.00219417 0.00415039]\n"
     ]
    }
   ],
   "source": [
    "svc_poly = SVC(kernel='poly', degree = 10)\r\n",
    "\r\n",
    "cv_result_poly_kernal = cross_validate(svc_poly, X_selectKBest, Y, cv=5, scoring = scoring, return_train_score= True)\r\n",
    "\r\n",
    "print('precision', cv_result_poly_kernal['test_precision'])\r\n",
    "print('recall', cv_result_poly_kernal['test_recall'])\r\n",
    "print('f1_score', cv_result_poly_kernal['test_f1'])\r\n",
    "print('Test_accuracy: ', cv_result_poly_kernal['test_accuracy'])\r\n",
    "print('Train_accuracy: ', cv_result_poly_kernal['train_accuracy'])\r\n",
    "print('Fit_time / Train_time: ', cv_result_poly_kernal['fit_time'])\r\n",
    "print('Score_time / Test_time: ', cv_result_poly_kernal['score_time'])"
   ]
  },
  {
   "cell_type": "markdown",
   "metadata": {},
   "source": [
    "###  After feature selection for KNN and SVC poly classifier we can see that overall performance is the same for both classifiers. There isn't a remarkable variance between perfromance metrics except for train and test time where KNN had a lower Train time but this doesnt mean that KNN is better as training team is not very very significant as it depends on the machine. If an algorithm has a higher training time but testing accuracy is good then in this case we can say the both KNN and SVC poly act similar"
   ]
  },
  {
   "cell_type": "markdown",
   "metadata": {},
   "source": [
    "## Q5 Applying PCA on oour dataset, printing the explained variance by each of the principle components (PCs) and selecting the first few components that explain most of the variance 70%+"
   ]
  },
  {
   "cell_type": "code",
   "execution_count": 49,
   "metadata": {},
   "outputs": [
    {
     "output_type": "stream",
     "name": "stdout",
     "text": [
      "[0.31759503 0.17461161 0.13490166]\n"
     ]
    }
   ],
   "source": [
    "from sklearn.decomposition import PCA\n",
    "\n",
    "pca = PCA(n_components=3) #explain 70% \n",
    "X_train_minmax = pca.fit_transform(X_train_minmax) \n",
    "\n",
    "PCA(copy=True, iterated_power='auto', n_components=2, random_state=None, svd_solver='auto', tol=0.0, whiten=False) \n",
    "\n",
    "print(pca.explained_variance_ratio_) "
   ]
  },
  {
   "cell_type": "markdown",
   "metadata": {},
   "source": [
    "## Q6.1 Using cross-validation to perform classification using KNN with the first few PCAs that explain most of the variance as input to the KNN classifier."
   ]
  },
  {
   "cell_type": "code",
   "execution_count": 50,
   "metadata": {},
   "outputs": [
    {
     "output_type": "stream",
     "name": "stdout",
     "text": [
      "precision [0.75268817 0.74747475 0.6875     0.74257426 0.73684211]\nrecall [0.67307692 0.71153846 0.74757282 0.72815534 0.81553398]\nf1_score [0.7106599  0.72906404 0.71627907 0.73529412 0.77419355]\nTest_accuracy:  [0.72463768 0.73429952 0.70531401 0.73786408 0.76213592]\nTrain_accuracy:  [0.87651332 0.86561743 0.86803874 0.86698912 0.85973398]\nFit_time / Train_time:  [0.00199437 0.00099826 0.0020299  0.         0.        ]\nScore_time / Test_time:  [0.00835919 0.00618076 0.00283909 0.00275588 0.00815558]\n"
     ]
    }
   ],
   "source": [
    "neigh = KNeighborsClassifier(n_neighbors=3)\n",
    "\n",
    "cv_result = cross_validate(neigh, X_train_minmax, Y, cv=5, scoring=scoring, return_train_score= True)\n",
    "\n",
    "\n",
    "print('precision', cv_result['test_precision'])\n",
    "print('recall', cv_result['test_recall'])\n",
    "print('f1_score', cv_result['test_f1'])\n",
    "print('Test_accuracy: ', cv_result['test_accuracy'])\n",
    "print('Train_accuracy: ', cv_result['train_accuracy'])\n",
    "print('Fit_time / Train_time: ', cv_result['fit_time'])\n",
    "print('Score_time / Test_time: ', cv_result['score_time'])"
   ]
  },
  {
   "cell_type": "markdown",
   "metadata": {},
   "source": [
    "## Q6.2 Using cross-validation to perform classification using SVC poly with the first few PCAs that explain most of the variance as input to the SVC poly classifier."
   ]
  },
  {
   "cell_type": "code",
   "execution_count": 51,
   "metadata": {},
   "outputs": [
    {
     "output_type": "stream",
     "name": "stdout",
     "text": [
      "precision [0.734375   0.90697674 0.79104478 0.89285714 0.57575758]\nrecall [0.45192308 0.375      0.51456311 0.48543689 0.9223301 ]\nf1_score [0.55952381 0.53061224 0.62352941 0.62893082 0.70895522]\nTest_accuracy:  [0.64251208 0.66666667 0.69082126 0.71359223 0.62135922]\nTrain_accuracy:  [0.71791768 0.70581114 0.72397094 0.71100363 0.71946796]\nFit_time / Train_time:  [0.02954006 0.02633953 0.02153301 0.03107643 0.01644635]\nScore_time / Test_time:  [0.00838828 0.01277113 0.         0.0019958  0.01625967]\n"
     ]
    }
   ],
   "source": [
    "svc_poly = SVC(kernel='poly', degree = 10)\n",
    "\n",
    "cv_result_poly_kernal = cross_validate(svc_poly, X_train_minmax, Y, cv=5, scoring = scoring, return_train_score= True)\n",
    "\n",
    "print('precision', cv_result_poly_kernal['test_precision'])\n",
    "print('recall', cv_result_poly_kernal['test_recall'])\n",
    "print('f1_score', cv_result_poly_kernal['test_f1'])\n",
    "print('Test_accuracy: ', cv_result_poly_kernal['test_accuracy'])\n",
    "print('Train_accuracy: ', cv_result_poly_kernal['train_accuracy'])\n",
    "print('Fit_time / Train_time: ', cv_result_poly_kernal['fit_time'])\n",
    "print('Score_time / Test_time: ', cv_result_poly_kernal['score_time'])\n"
   ]
  },
  {
   "cell_type": "markdown",
   "metadata": {
    "collapsed": false
   },
   "source": [
    "## 7 "
   ]
  }
 ],
 "metadata": {
  "language_info": {
   "version": "3.9.2"
  },
  "orig_nbformat": 3,
  "kernelspec": {
   "name": "python392jvsc74a57bd0565403b5684cc72ad1df74761f0871441393b3f5c164e2ef07e55caf67f37f7a",
   "display_name": "Python 3.9.2 64-bit"
  },
  "metadata": {
   "interpreter": {
    "hash": "565403b5684cc72ad1df74761f0871441393b3f5c164e2ef07e55caf67f37f7a"
   }
  }
 },
 "nbformat": 4,
 "nbformat_minor": 2
}