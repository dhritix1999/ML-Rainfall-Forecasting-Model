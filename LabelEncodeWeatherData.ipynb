{
 "cells": [
  {
   "cell_type": "code",
   "execution_count": 1,
   "metadata": {},
   "outputs": [
    {
     "name": "stdout",
     "output_type": "stream",
     "text": [
      "Requirement already up-to-date: notebook in c:\\users\\najia\\appdata\\local\\programs\\python\\python39\\lib\\site-packages (6.2.0)\n",
      "Requirement already satisfied, skipping upgrade: tornado>=6.1 in c:\\users\\najia\\appdata\\roaming\\python\\python39\\site-packages (from notebook) (6.1)\n",
      "Requirement already satisfied, skipping upgrade: ipython-genutils in c:\\users\\najia\\appdata\\roaming\\python\\python39\\site-packages (from notebook) (0.2.0)\n",
      "Requirement already satisfied, skipping upgrade: Send2Trash>=1.5.0 in c:\\users\\najia\\appdata\\local\\programs\\python\\python39\\lib\\site-packages (from notebook) (1.5.0)\n",
      "Requirement already satisfied, skipping upgrade: jupyter-core>=4.6.1 in c:\\users\\najia\\appdata\\roaming\\python\\python39\\site-packages (from notebook) (4.7.1)\n",
      "Requirement already satisfied, skipping upgrade: ipykernel in c:\\users\\najia\\appdata\\roaming\\python\\python39\\site-packages (from notebook) (5.5.0)\n",
      "Requirement already satisfied, skipping upgrade: traitlets>=4.2.1 in c:\\users\\najia\\appdata\\roaming\\python\\python39\\site-packages (from notebook) (5.0.5)\n",
      "Requirement already satisfied, skipping upgrade: prometheus-client in c:\\users\\najia\\appdata\\local\\programs\\python\\python39\\lib\\site-packages (from notebook) (0.9.0)\n",
      "Requirement already satisfied, skipping upgrade: terminado>=0.8.3 in c:\\users\\najia\\appdata\\local\\programs\\python\\python39\\lib\\site-packages (from notebook) (0.9.2)\n",
      "Requirement already satisfied, skipping upgrade: nbformat in c:\\users\\najia\\appdata\\local\\programs\\python\\python39\\lib\\site-packages (from notebook) (5.1.2)\n",
      "Requirement already satisfied, skipping upgrade: nbconvert in c:\\users\\najia\\appdata\\local\\programs\\python\\python39\\lib\\site-packages (from notebook) (6.0.7)\n",
      "Requirement already satisfied, skipping upgrade: pyzmq>=17 in c:\\users\\najia\\appdata\\roaming\\python\\python39\\site-packages (from notebook) (22.0.3)\n",
      "Requirement already satisfied, skipping upgrade: jinja2 in c:\\users\\najia\\appdata\\local\\programs\\python\\python39\\lib\\site-packages (from notebook) (2.11.3)\n",
      "Requirement already satisfied, skipping upgrade: argon2-cffi in c:\\users\\najia\\appdata\\local\\programs\\python\\python39\\lib\\site-packages (from notebook) (20.1.0)\n",
      "Requirement already satisfied, skipping upgrade: jupyter-client>=5.3.4 in c:\\users\\najia\\appdata\\roaming\\python\\python39\\site-packages (from notebook) (6.1.11)\n",
      "Requirement already satisfied, skipping upgrade: pywin32>=1.0; sys_platform == \"win32\" in c:\\users\\najia\\appdata\\roaming\\python\\python39\\site-packages (from jupyter-core>=4.6.1->notebook) (300)\n",
      "Requirement already satisfied, skipping upgrade: ipython>=5.0.0 in c:\\users\\najia\\appdata\\roaming\\python\\python39\\site-packages (from ipykernel->notebook) (7.21.0)\n",
      "Requirement already satisfied, skipping upgrade: pywinpty>=0.5; os_name == \"nt\" in c:\\users\\najia\\appdata\\local\\programs\\python\\python39\\lib\\site-packages (from terminado>=0.8.3->notebook) (0.5.7)\n",
      "Requirement already satisfied, skipping upgrade: jsonschema!=2.5.0,>=2.4 in c:\\users\\najia\\appdata\\local\\programs\\python\\python39\\lib\\site-packages (from nbformat->notebook) (3.2.0)\n",
      "Requirement already satisfied, skipping upgrade: entrypoints>=0.2.2 in c:\\users\\najia\\appdata\\local\\programs\\python\\python39\\lib\\site-packages (from nbconvert->notebook) (0.3)\n",
      "Requirement already satisfied, skipping upgrade: pandocfilters>=1.4.1 in c:\\users\\najia\\appdata\\local\\programs\\python\\python39\\lib\\site-packages (from nbconvert->notebook) (1.4.3)\n",
      "Requirement already satisfied, skipping upgrade: pygments>=2.4.1 in c:\\users\\najia\\appdata\\roaming\\python\\python39\\site-packages (from nbconvert->notebook) (2.8.0)\n",
      "Requirement already satisfied, skipping upgrade: nbclient<0.6.0,>=0.5.0 in c:\\users\\najia\\appdata\\local\\programs\\python\\python39\\lib\\site-packages (from nbconvert->notebook) (0.5.3)\n",
      "Requirement already satisfied, skipping upgrade: jupyterlab-pygments in c:\\users\\najia\\appdata\\local\\programs\\python\\python39\\lib\\site-packages (from nbconvert->notebook) (0.1.2)\n",
      "Requirement already satisfied, skipping upgrade: defusedxml in c:\\users\\najia\\appdata\\local\\programs\\python\\python39\\lib\\site-packages (from nbconvert->notebook) (0.7.0)\n",
      "Requirement already satisfied, skipping upgrade: mistune<2,>=0.8.1 in c:\\users\\najia\\appdata\\local\\programs\\python\\python39\\lib\\site-packages (from nbconvert->notebook) (0.8.4)\n",
      "Requirement already satisfied, skipping upgrade: testpath in c:\\users\\najia\\appdata\\local\\programs\\python\\python39\\lib\\site-packages (from nbconvert->notebook) (0.4.4)\n",
      "Requirement already satisfied, skipping upgrade: bleach in c:\\users\\najia\\appdata\\local\\programs\\python\\python39\\lib\\site-packages (from nbconvert->notebook) (3.3.0)\n",
      "Requirement already satisfied, skipping upgrade: MarkupSafe>=0.23 in c:\\users\\najia\\appdata\\local\\programs\\python\\python39\\lib\\site-packages (from jinja2->notebook) (1.1.1)\n",
      "Requirement already satisfied, skipping upgrade: six in c:\\users\\najia\\appdata\\roaming\\python\\python39\\site-packages (from argon2-cffi->notebook) (1.15.0)\n",
      "Requirement already satisfied, skipping upgrade: cffi>=1.0.0 in c:\\users\\najia\\appdata\\local\\programs\\python\\python39\\lib\\site-packages (from argon2-cffi->notebook) (1.14.5)\n",
      "Requirement already satisfied, skipping upgrade: python-dateutil>=2.1 in c:\\users\\najia\\appdata\\roaming\\python\\python39\\site-packages (from jupyter-client>=5.3.4->notebook) (2.8.1)\n",
      "Requirement already satisfied, skipping upgrade: colorama; sys_platform == \"win32\" in c:\\users\\najia\\appdata\\roaming\\python\\python39\\site-packages (from ipython>=5.0.0->ipykernel->notebook) (0.4.4)\n",
      "Requirement already satisfied, skipping upgrade: jedi>=0.16 in c:\\users\\najia\\appdata\\roaming\\python\\python39\\site-packages (from ipython>=5.0.0->ipykernel->notebook) (0.18.0)\n",
      "Requirement already satisfied, skipping upgrade: prompt-toolkit!=3.0.0,!=3.0.1,<3.1.0,>=2.0.0 in c:\\users\\najia\\appdata\\roaming\\python\\python39\\site-packages (from ipython>=5.0.0->ipykernel->notebook) (3.0.16)\n",
      "Requirement already satisfied, skipping upgrade: setuptools>=18.5 in c:\\users\\najia\\appdata\\local\\programs\\python\\python39\\lib\\site-packages (from ipython>=5.0.0->ipykernel->notebook) (49.2.1)\n",
      "Requirement already satisfied, skipping upgrade: backcall in c:\\users\\najia\\appdata\\roaming\\python\\python39\\site-packages (from ipython>=5.0.0->ipykernel->notebook) (0.2.0)\n",
      "Requirement already satisfied, skipping upgrade: decorator in c:\\users\\najia\\appdata\\roaming\\python\\python39\\site-packages (from ipython>=5.0.0->ipykernel->notebook) (4.4.2)\n",
      "Requirement already satisfied, skipping upgrade: pickleshare in c:\\users\\najia\\appdata\\roaming\\python\\python39\\site-packages (from ipython>=5.0.0->ipykernel->notebook) (0.7.5)\n",
      "Requirement already satisfied, skipping upgrade: pyrsistent>=0.14.0 in c:\\users\\najia\\appdata\\local\\programs\\python\\python39\\lib\\site-packages (from jsonschema!=2.5.0,>=2.4->nbformat->notebook) (0.17.3)\n",
      "Requirement already satisfied, skipping upgrade: attrs>=17.4.0 in c:\\users\\najia\\appdata\\local\\programs\\python\\python39\\lib\\site-packages (from jsonschema!=2.5.0,>=2.4->nbformat->notebook) (20.3.0)\n",
      "Requirement already satisfied, skipping upgrade: nest-asyncio in c:\\users\\najia\\appdata\\local\\programs\\python\\python39\\lib\\site-packages (from nbclient<0.6.0,>=0.5.0->nbconvert->notebook) (1.5.1)\n",
      "Requirement already satisfied, skipping upgrade: async-generator in c:\\users\\najia\\appdata\\local\\programs\\python\\python39\\lib\\site-packages (from nbclient<0.6.0,>=0.5.0->nbconvert->notebook) (1.10)\n",
      "Requirement already satisfied, skipping upgrade: packaging in c:\\users\\najia\\appdata\\local\\programs\\python\\python39\\lib\\site-packages (from bleach->nbconvert->notebook) (20.9)\n",
      "Requirement already satisfied, skipping upgrade: webencodings in c:\\users\\najia\\appdata\\local\\programs\\python\\python39\\lib\\site-packages (from bleach->nbconvert->notebook) (0.5.1)\n",
      "Requirement already satisfied, skipping upgrade: pycparser in c:\\users\\najia\\appdata\\local\\programs\\python\\python39\\lib\\site-packages (from cffi>=1.0.0->argon2-cffi->notebook) (2.20)\n",
      "Requirement already satisfied, skipping upgrade: parso<0.9.0,>=0.8.0 in c:\\users\\najia\\appdata\\roaming\\python\\python39\\site-packages (from jedi>=0.16->ipython>=5.0.0->ipykernel->notebook) (0.8.1)\n",
      "Requirement already satisfied, skipping upgrade: wcwidth in c:\\users\\najia\\appdata\\roaming\\python\\python39\\site-packages (from prompt-toolkit!=3.0.0,!=3.0.1,<3.1.0,>=2.0.0->ipython>=5.0.0->ipykernel->notebook) (0.2.5)\n",
      "Requirement already satisfied, skipping upgrade: pyparsing>=2.0.2 in c:\\users\\najia\\appdata\\local\\programs\\python\\python39\\lib\\site-packages (from packaging->bleach->nbconvert->notebook) (2.4.7)\n",
      "Note: you may need to restart the kernel to use updated packages.\n",
      "WARNING: You are using pip version 20.2.3; however, version 21.0.1 is available.\n",
      "You should consider upgrading via the 'C:\\Users\\najia\\AppData\\Local\\Programs\\Python\\Python39\\python.exe -m pip install --upgrade pip' command.\n"
     ]
    }
   ],
   "source": [
    "pip install --upgrade notebook"
   ]
  },
  {
   "cell_type": "code",
   "execution_count": 2,
   "metadata": {},
   "outputs": [],
   "source": [
    "import nbformat"
   ]
  },
  {
   "cell_type": "code",
   "execution_count": 3,
   "metadata": {},
   "outputs": [
    {
     "name": "stdout",
     "output_type": "stream",
     "text": [
      "Requirement already up-to-date: scikit-learn in c:\\users\\najia\\appdata\\local\\programs\\python\\python39\\lib\\site-packages (0.24.1)\n",
      "Requirement already satisfied, skipping upgrade: numpy>=1.13.3 in c:\\users\\najia\\appdata\\local\\programs\\python\\python39\\lib\\site-packages (from scikit-learn) (1.20.1)\n",
      "Requirement already satisfied, skipping upgrade: joblib>=0.11 in c:\\users\\najia\\appdata\\local\\programs\\python\\python39\\lib\\site-packages (from scikit-learn) (1.0.1)\n",
      "Requirement already satisfied, skipping upgrade: scipy>=0.19.1 in c:\\users\\najia\\appdata\\local\\programs\\python\\python39\\lib\\site-packages (from scikit-learn) (1.6.1)\n",
      "Requirement already satisfied, skipping upgrade: threadpoolctl>=2.0.0 in c:\\users\\najia\\appdata\\local\\programs\\python\\python39\\lib\\site-packages (from scikit-learn) (2.1.0)\n",
      "Note: you may need to restart the kernel to use updated packages.\n",
      "WARNING: You are using pip version 20.2.3; however, version 21.0.1 is available.\n",
      "You should consider upgrading via the 'C:\\Users\\najia\\AppData\\Local\\Programs\\Python\\Python39\\python.exe -m pip install --upgrade pip' command.\n"
     ]
    }
   ],
   "source": [
    "pip install -U scikit-learn"
   ]
  },
  {
   "cell_type": "code",
   "execution_count": 3,
   "metadata": {},
   "outputs": [],
   "source": [
    "from sklearn.preprocessing import LabelEncoder"
   ]
  },
  {
   "cell_type": "code",
   "execution_count": 4,
   "metadata": {},
   "outputs": [],
   "source": [
    "import pandas as pd"
   ]
  },
  {
   "cell_type": "code",
   "execution_count": 5,
   "metadata": {},
   "outputs": [],
   "source": [
    "df = pd.read_csv(r'C:\\Users\\najia\\Downloads\\Ml train data.csv')"
   ]
  },
  {
   "cell_type": "code",
   "execution_count": 6,
   "metadata": {},
   "outputs": [],
   "source": [
    "le = LabelEncoder()"
   ]
  },
  {
   "cell_type": "code",
   "execution_count": 7,
   "metadata": {},
   "outputs": [],
   "source": [
    "df['WindGustDir'] = le.fit_transform(df['WindGustDir'])"
   ]
  },
  {
   "cell_type": "code",
   "execution_count": 8,
   "metadata": {},
   "outputs": [
    {
     "data": {
      "text/plain": [
       "array([ 2,  1, 11, 15,  3, 10,  9,  4,  5, 13,  0,  6,  8, 12,  7, 14])"
      ]
     },
     "execution_count": 8,
     "metadata": {},
     "output_type": "execute_result"
    }
   ],
   "source": [
    "df['WindGustDir'].unique()"
   ]
  },
  {
   "cell_type": "code",
   "execution_count": 9,
   "metadata": {},
   "outputs": [],
   "source": [
    "df['WindDir9am'] = le.fit_transform(df['WindDir9am'])"
   ]
  },
  {
   "cell_type": "code",
   "execution_count": 10,
   "metadata": {},
   "outputs": [
    {
     "data": {
      "text/plain": [
       "array([ 1,  4,  3, 14,  9,  2,  0,  5, 15, 13, 10,  6, 12, 11,  8,  7])"
      ]
     },
     "execution_count": 10,
     "metadata": {},
     "output_type": "execute_result"
    }
   ],
   "source": [
    "df['WindDir9am'].unique()"
   ]
  },
  {
   "cell_type": "code",
   "execution_count": 11,
   "metadata": {},
   "outputs": [],
   "source": [
    "df['WindDir3pm'] = le.fit_transform(df['WindDir3pm'])"
   ]
  },
  {
   "cell_type": "code",
   "execution_count": 12,
   "metadata": {},
   "outputs": [
    {
     "data": {
      "text/plain": [
       "array([ 0,  7, 13, 11, 14,  9,  1,  2,  3,  5, 15,  4, 12,  6,  8, 10])"
      ]
     },
     "execution_count": 12,
     "metadata": {},
     "output_type": "execute_result"
    }
   ],
   "source": [
    "df['WindDir3pm'].unique()"
   ]
  },
  {
   "cell_type": "code",
   "execution_count": 13,
   "metadata": {},
   "outputs": [],
   "source": [
    "df['RainToday'] = le.fit_transform(df['RainToday'])"
   ]
  },
  {
   "cell_type": "code",
   "execution_count": 14,
   "metadata": {},
   "outputs": [
    {
     "data": {
      "text/plain": [
       "array([1, 0])"
      ]
     },
     "execution_count": 14,
     "metadata": {},
     "output_type": "execute_result"
    }
   ],
   "source": [
    "df['RainToday'].unique()"
   ]
  },
  {
   "cell_type": "code",
   "execution_count": 15,
   "metadata": {},
   "outputs": [],
   "source": [
    "df['RainTomorrow'] = le.fit_transform(df['RainTomorrow'])"
   ]
  },
  {
   "cell_type": "code",
   "execution_count": 16,
   "metadata": {},
   "outputs": [
    {
     "data": {
      "text/plain": [
       "array([1, 0])"
      ]
     },
     "execution_count": 16,
     "metadata": {},
     "output_type": "execute_result"
    }
   ],
   "source": [
    "df['RainTomorrow'].unique()"
   ]
  },
  {
   "cell_type": "code",
   "execution_count": 17,
   "metadata": {},
   "outputs": [
    {
     "name": "stdout",
     "output_type": "stream",
     "text": [
      "   MinTemp  MaxTemp  Rainfall  Evaporation  Sunshine  WindGustDir  \\\n",
      "0     18.5     19.7      22.4         30.4       0.0            2   \n",
      "1     23.7     36.3       2.2         43.0      10.3            1   \n",
      "2     18.4     27.5       0.0         10.4       7.3           11   \n",
      "\n",
      "   WindGustSpeed  WindDir9am  WindDir3pm  WindSpeed9am  ...  Humidity9am  \\\n",
      "0             39           1           0            19  ...           92   \n",
      "1             52           4           7            35  ...           56   \n",
      "2             39           4          13            13  ...           75   \n",
      "\n",
      "   Humidity3pm  Pressure9am  Pressure3pm  Cloud9am  Cloud3pm  Temp9am  \\\n",
      "0           91       1010.1       1010.3         8         8     18.9   \n",
      "1           33       1010.9       1006.4         4         7     26.5   \n",
      "2           62       1017.6       1014.9         7         6     19.7   \n",
      "\n",
      "   Temp3pm  RainToday  RainTomorrow  \n",
      "0     18.6          1             1  \n",
      "1     34.1          1             1  \n",
      "2     24.4          0             1  \n",
      "\n",
      "[3 rows x 21 columns]\n"
     ]
    }
   ],
   "source": [
    "print(df.head(3))"
   ]
  },
  {
   "cell_type": "code",
   "execution_count": 20,
   "metadata": {},
   "outputs": [],
   "source": [
    "X = df.iloc[:, :-1].values"
   ]
  },
  {
   "cell_type": "code",
   "execution_count": 21,
   "metadata": {},
   "outputs": [
    {
     "name": "stdout",
     "output_type": "stream",
     "text": [
      "[[18.5 19.7 22.4 ... 18.9 18.6  1. ]\n",
      " [23.7 36.3  2.2 ... 26.5 34.1  1. ]\n",
      " [18.4 27.5  0.  ... 19.7 24.4  0. ]\n",
      " ...\n",
      " [10.  20.1  0.  ... 14.3 19.   0. ]\n",
      " [ 9.9 25.3  0.  ... 14.4 24.5  0. ]\n",
      " [14.4 19.8 13.2 ... 15.4 16.6  1. ]]\n"
     ]
    }
   ],
   "source": [
    "print(X)\n"
   ]
  },
  {
   "cell_type": "code",
   "execution_count": 22,
   "metadata": {},
   "outputs": [],
   "source": [
    "Y = df.iloc[:, -1].values"
   ]
  },
  {
   "cell_type": "code",
   "execution_count": 23,
   "metadata": {},
   "outputs": [
    {
     "name": "stdout",
     "output_type": "stream",
     "text": [
      "[1 1 1 ... 0 0 0]\n"
     ]
    }
   ],
   "source": [
    "print(Y)"
   ]
  },
  {
   "cell_type": "code",
   "execution_count": null,
   "metadata": {},
   "outputs": [],
   "source": []
  }
 ],
 "metadata": {
  "kernelspec": {
   "display_name": "Python 3.9.2 64-bit",
   "metadata": {
    "interpreter": {
     "hash": "565403b5684cc72ad1df74761f0871441393b3f5c164e2ef07e55caf67f37f7a"
    }
   },
   "name": "python3"
  },
  "language_info": {
   "codemirror_mode": {
    "name": "ipython",
    "version": 3
   },
   "file_extension": ".py",
   "mimetype": "text/x-python",
   "name": "python",
   "nbconvert_exporter": "python",
   "pygments_lexer": "ipython3",
   "version": "3.9.2-final"
  },
  "orig_nbformat": 2
 },
 "nbformat": 4,
 "nbformat_minor": 2
}