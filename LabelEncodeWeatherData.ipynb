{
 "cells": [
  {
   "cell_type": "markdown",
   "metadata": {},
   "source": [
    "pip install --upgrade notebook"
   ]
  },
  {
   "cell_type": "markdown",
   "metadata": {},
   "source": [
    "pip install -U scikit-learn"
   ]
  },
  {
   "cell_type": "markdown",
   "metadata": {},
   "source": [
    "pip install nbformat"
   ]
  },
  {
   "cell_type": "markdown",
   "metadata": {},
   "source": [
    "pip install pandas"
   ]
  },
  {
   "cell_type": "code",
   "execution_count": 1,
   "metadata": {},
   "outputs": [],
   "source": [
    "from sklearn.preprocessing import LabelEncoder\r\n",
    "import pandas as pd"
   ]
  },
  {
   "cell_type": "code",
   "execution_count": 2,
   "metadata": {},
   "outputs": [],
   "source": [
    "df = pd.read_csv(r'ML train data.csv')"
   ]
  },
  {
   "cell_type": "code",
   "execution_count": 3,
   "metadata": {},
   "outputs": [],
   "source": [
    "le = LabelEncoder()"
   ]
  },
  {
   "cell_type": "code",
   "execution_count": 4,
   "metadata": {},
   "outputs": [
    {
     "data": {
      "text/plain": "array([ 2,  1, 11, 15,  3, 10,  9,  4,  5, 13,  0,  6,  8, 12,  7, 14])"
     },
     "execution_count": 4,
     "metadata": {},
     "output_type": "execute_result"
    }
   ],
   "source": [
    "df['WindGustDir'] = le.fit_transform(df['WindGustDir'])\r\n",
    "df['WindGustDir'].unique()"
   ]
  },
  {
   "cell_type": "code",
   "execution_count": 5,
   "metadata": {},
   "outputs": [
    {
     "data": {
      "text/plain": "array([ 1,  4,  3, 14,  9,  2,  0,  5, 15, 13, 10,  6, 12, 11,  8,  7])"
     },
     "execution_count": 5,
     "metadata": {},
     "output_type": "execute_result"
    }
   ],
   "source": [
    "df['WindDir9am'] = le.fit_transform(df['WindDir9am'])\r\n",
    "df['WindDir9am'].unique()"
   ]
  },
  {
   "cell_type": "code",
   "execution_count": 6,
   "metadata": {},
   "outputs": [
    {
     "data": {
      "text/plain": "array([ 0,  7, 13, 11, 14,  9,  1,  2,  3,  5, 15,  4, 12,  6,  8, 10])"
     },
     "execution_count": 6,
     "metadata": {},
     "output_type": "execute_result"
    }
   ],
   "source": [
    "df['WindDir3pm'] = le.fit_transform(df['WindDir3pm'])\r\n",
    "df['WindDir3pm'].unique()"
   ]
  },
  {
   "cell_type": "code",
   "execution_count": 7,
   "metadata": {},
   "outputs": [
    {
     "data": {
      "text/plain": "array([1, 0])"
     },
     "execution_count": 7,
     "metadata": {},
     "output_type": "execute_result"
    }
   ],
   "source": [
    "df['RainToday'] = le.fit_transform(df['RainToday'])\r\n",
    "df['RainToday'].unique()"
   ]
  },
  {
   "cell_type": "code",
   "execution_count": 8,
   "metadata": {},
   "outputs": [
    {
     "data": {
      "text/plain": "array([1, 0])"
     },
     "execution_count": 8,
     "metadata": {},
     "output_type": "execute_result"
    }
   ],
   "source": [
    "df['RainTomorrow'] = le.fit_transform(df['RainTomorrow'])\r\n",
    "df['RainTomorrow'].unique()"
   ]
  },
  {
   "cell_type": "code",
   "execution_count": 9,
   "metadata": {},
   "outputs": [
    {
     "name": "stdout",
     "output_type": "stream",
     "text": [
      "   MinTemp  MaxTemp  Rainfall  Evaporation  Sunshine  WindGustDir  \\\n",
      "0     18.5     19.7      22.4         30.4       0.0            2   \n",
      "1     23.7     36.3       2.2         43.0      10.3            1   \n",
      "2     18.4     27.5       0.0         10.4       7.3           11   \n",
      "\n",
      "   WindGustSpeed  WindDir9am  WindDir3pm  WindSpeed9am  ...  Humidity9am  \\\n",
      "0             39           1           0            19  ...           92   \n",
      "1             52           4           7            35  ...           56   \n",
      "2             39           4          13            13  ...           75   \n",
      "\n",
      "   Humidity3pm  Pressure9am  Pressure3pm  Cloud9am  Cloud3pm  Temp9am  \\\n",
      "0           91       1010.1       1010.3         8         8     18.9   \n",
      "1           33       1010.9       1006.4         4         7     26.5   \n",
      "2           62       1017.6       1014.9         7         6     19.7   \n",
      "\n",
      "   Temp3pm  RainToday  RainTomorrow  \n",
      "0     18.6          1             1  \n",
      "1     34.1          1             1  \n",
      "2     24.4          0             1  \n",
      "\n",
      "[3 rows x 21 columns]\n"
     ]
    }
   ],
   "source": [
    "print(df.head(3))"
   ]
  },
  {
   "cell_type": "code",
   "execution_count": 10,
   "metadata": {},
   "outputs": [
    {
     "name": "stdout",
     "output_type": "stream",
     "text": [
      "[[18.5 19.7 22.4 ... 18.9 18.6  1. ]\n",
      " [23.7 36.3  2.2 ... 26.5 34.1  1. ]\n",
      " [18.4 27.5  0.  ... 19.7 24.4  0. ]\n",
      " ...\n",
      " [10.  20.1  0.  ... 14.3 19.   0. ]\n",
      " [ 9.9 25.3  0.  ... 14.4 24.5  0. ]\n",
      " [14.4 19.8 13.2 ... 15.4 16.6  1. ]]\n",
      "Stored 'X' (ndarray)\n"
     ]
    }
   ],
   "source": [
    "X = df.iloc[:, :-1].values\r\n",
    "print(X)\r\n",
    "\r\n",
    "%store X"
   ]
  },
  {
   "cell_type": "code",
   "execution_count": 11,
   "metadata": {},
   "outputs": [
    {
     "name": "stdout",
     "output_type": "stream",
     "text": [
      "[1 1 1 ... 0 0 0]\n",
      "Stored 'Y' (ndarray)\n"
     ]
    }
   ],
   "source": [
    "Y = df.iloc[:, -1].values\r\n",
    "print(Y)\r\n",
    "\r\n",
    "%store Y"
   ]
  }
 ],
 "metadata": {
  "kernelspec": {
   "display_name": "Python 3.9.2 64-bit",
   "metadata": {
    "interpreter": {
     "hash": "63fd5069d213b44bf678585dea6b12cceca9941eaf7f819626cde1f2670de90d"
    }
   },
   "name": "python3"
  },
  "language_info": {
   "codemirror_mode": {
    "name": "ipython",
    "version": 3
   },
   "file_extension": ".py",
   "mimetype": "text/x-python",
   "name": "python",
   "nbconvert_exporter": "python",
   "pygments_lexer": "ipython3",
   "version": "3.9.2"
  },
  "orig_nbformat": 2
 },
 "nbformat": 4,
 "nbformat_minor": 2
}