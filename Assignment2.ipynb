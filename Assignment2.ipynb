{
 "cells": [
  {
   "cell_type": "markdown",
   "metadata": {},
   "source": [
    "# Assignment 2\r\n",
    "## Saving data in 2 parallel matrices, features(x) and labels(y)"
   ]
  },
  {
   "cell_type": "markdown",
   "metadata": {},
   "source": [
    "pip install -U scikit-learn"
   ]
  },
  {
   "cell_type": "raw",
   "metadata": {},
   "source": [
    "import pandas as pd"
   ]
  },
  {
   "cell_type": "markdown",
   "metadata": {},
   "source": [
    "#### Retreiving the x and y array generated in another notebook after encoding the dataset"
   ]
  },
  {
   "cell_type": "code",
   "execution_count": 9,
   "metadata": {},
   "outputs": [
    {
     "name": "stdout",
     "output_type": "stream",
     "text": [
      "[[18.5 19.7 22.4 ... 18.9 18.6  1. ]\n",
      " [23.7 36.3  2.2 ... 26.5 34.1  1. ]\n",
      " [18.4 27.5  0.  ... 19.7 24.4  0. ]\n",
      " ...\n",
      " [10.  20.1  0.  ... 14.3 19.   0. ]\n",
      " [ 9.9 25.3  0.  ... 14.4 24.5  0. ]\n",
      " [14.4 19.8 13.2 ... 15.4 16.6  1. ]]\n"
     ]
    }
   ],
   "source": [
    "%store -r X\r\n",
    "\r\n",
    "print(X)"
   ]
  },
  {
   "cell_type": "code",
   "execution_count": 10,
   "metadata": {},
   "outputs": [
    {
     "name": "stdout",
     "output_type": "stream",
     "text": [
      "[1 1 1 ... 0 0 0]\n"
     ]
    }
   ],
   "source": [
    "%store -r Y\r\n",
    "print(Y)"
   ]
  },
  {
   "cell_type": "code",
   "execution_count": 22,
   "metadata": {},
   "outputs": [],
   "source": [
    "from sklearn import tree"
   ]
  },
  {
   "cell_type": "markdown",
   "metadata": {},
   "source": [
    "## Performing Random Splits"
   ]
  },
  {
   "cell_type": "code",
   "execution_count": 11,
   "metadata": {},
   "outputs": [],
   "source": [
    "tree.plotreeeuysiuwghhhnn b 34\r\n",
    "dd,d,d,edf;s;ll;sd nnnnnnnnnnnnnnnnvggggrrruiwhd8eyyu3yi7ry73iyyryrhrhr"
   ]
  },
  {
   "cell_type": "code",
   "execution_count": 43,
   "metadata": {},
   "outputs": [
    {
     "name": "stdout",
     "output_type": "stream",
     "text": [
      "(Training, Testing) Accuracy Result  1 :  0.9200968523002422 ,  0.748792270531401\n",
      "(Training, Testing) Accuracy Result  2 :  0.9249394673123487 ,  0.7536231884057971\n",
      "(Training, Testing) Accuracy Result  3 :  0.910411622276029 ,  0.7584541062801933\n",
      "(Training, Testing) Accuracy Result  4 :  0.9164648910411622 ,  0.8019323671497585\n",
      "(Training, Testing) Accuracy Result  5 :  0.9200968523002422 ,  0.782608695652174\n",
      "(Training, Testing) Accuracy Result  6 :  0.923728813559322 ,  0.7777777777777778\n",
      "(Training, Testing) Accuracy Result  7 :  0.914043583535109 ,  0.7729468599033816\n",
      "(Training, Testing) Accuracy Result  8 :  0.923728813559322 ,  0.7874396135265701\n",
      "(Training, Testing) Accuracy Result  9 :  0.9188861985472155 ,  0.7536231884057971\n",
      "(Training, Testing) Accuracy Result  10 :  0.914043583535109 ,  0.8115942028985508\n"
     ]
    }
   ],
   "source": [
    "for i in range(10):\r\n",
    "\r\n",
    "    X_train, X_test, Y_train, Y_test = train_test_split(X, Y, test_size=0.20)\r\n",
    "\r\n",
    "    clf = tree.DecisionTreeClassifier(min_samples_split=20)\r\n",
    "\r\n",
    "    clf = clf.fit(X_train, Y_train)\r\n",
    "\r\n",
    "    y_pred = clf.predict(X_test)\r\n",
    "\r\n",
    "    print('(Training, Testing) Accuracy Result ' ,i+1,': ', clf.score(X_train, Y_train), ', ', clf.score(X_test, Y_test)) \r\n",
    "    #training accuracy and testing /prediction accuracy\r\n"
   ]
  },
  {
   "cell_type": "markdown",
   "metadata": {},
   "source": [
    "## K-Fold Cross Validation"
   ]
  },
  {
   "cell_type": "code",
   "execution_count": 44,
   "metadata": {},
   "outputs": [
    {
     "name": "stdout",
     "output_type": "stream",
     "text": [
      "{'fit_time': array([0.00897264, 0.01296687, 0.02844119, 0.00810409, 0.01052308]), 'score_time': array([0.00199533, 0.00100279, 0.        , 0.00099349, 0.00698042]), 'test_score': array([0.69565217, 0.73913043, 0.69565217, 0.78640777, 0.80097087])}\n"
     ]
    }
   ],
   "source": [
    "from sklearn.model_selection import cross_validate\r\n",
    "\r\n",
    "cv_result = cross_validate(clf, X, Y, cv=5)\r\n",
    "\r\n",
    "print(cv_result)"
   ]
  },
  {
   "cell_type": "code",
   "execution_count": null,
   "metadata": {},
   "outputs": [],
   "source": []
  },
  {
   "cell_type": "markdown",
   "metadata": {},
   "source": []
  }
 ],
 "metadata": {
  "kernelspec": {
   "display_name": "Python 3.9.2 64-bit",
   "metadata": {
    "interpreter": {
     "hash": "63fd5069d213b44bf678585dea6b12cceca9941eaf7f819626cde1f2670de90d"
    }
   },
   "name": "python3"
  },
  "language_info": {
   "codemirror_mode": {
    "name": "ipython",
    "version": 3
   },
   "file_extension": ".py",
   "mimetype": "text/x-python",
   "name": "python",
   "nbconvert_exporter": "python",
   "pygments_lexer": "ipython3",
   "version": "3.9.2"
  },
  "orig_nbformat": 2
 },
 "nbformat": 4,
 "nbformat_minor": 2
}