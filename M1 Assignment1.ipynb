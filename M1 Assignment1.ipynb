{
 "cells": [
  {
   "cell_type": "code",
   "execution_count": 1,
   "metadata": {},
   "outputs": [],
   "source": [
    "import pandas as pd"
   ]
  },
  {
   "cell_type": "code",
   "execution_count": 2,
   "metadata": {},
   "outputs": [],
   "source": [
    "df = pd.read_csv(r'ML train data.csv')"
   ]
  },
  {
   "cell_type": "code",
   "execution_count": 3,
   "metadata": {},
   "outputs": [
    {
     "name": "stdout",
     "output_type": "stream",
     "text": [
      "   MinTemp  MaxTemp  Rainfall  Evaporation  Sunshine WindGustDir  \\\n",
      "0     18.5     19.7      22.4         30.4       0.0         ESE   \n",
      "1     23.7     36.3       2.2         43.0      10.3         ENE   \n",
      "2     18.4     27.5       0.0         10.4       7.3         SSW   \n",
      "\n",
      "   WindGustSpeed WindDir9am WindDir3pm  WindSpeed9am  ...  Humidity9am  \\\n",
      "0             39        ENE          E            19  ...           92   \n",
      "1             52         NE         NW            35  ...           56   \n",
      "2             39         NE          W            13  ...           75   \n",
      "\n",
      "   Humidity3pm  Pressure9am  Pressure3pm  Cloud9am  Cloud3pm  Temp9am  \\\n",
      "0           91       1010.1       1010.3         8         8     18.9   \n",
      "1           33       1010.9       1006.4         4         7     26.5   \n",
      "2           62       1017.6       1014.9         7         6     19.7   \n",
      "\n",
      "   Temp3pm  RainToday RainTomorrow  \n",
      "0     18.6        Yes          Yes  \n",
      "1     34.1        Yes          Yes  \n",
      "2     24.4         No          Yes  \n",
      "\n",
      "[3 rows x 21 columns]\n"
     ]
    }
   ],
   "source": [
    "print(df.head(3))"
   ]
  },
  {
   "cell_type": "code",
   "execution_count": 4,
   "metadata": {},
   "outputs": [
    {
     "data": {
      "text/plain": "Yes    517\nNo     516\nName: RainTomorrow, dtype: int64"
     },
     "execution_count": 4,
     "metadata": {},
     "output_type": "execute_result"
    }
   ],
   "source": [
    "df['RainTomorrow'].value_counts()"
   ]
  },
  {
   "cell_type": "markdown",
   "metadata": {},
   "source": [
    "pip install matplotlib"
   ]
  },
  {
   "cell_type": "markdown",
   "metadata": {},
   "source": [
    "%matplotlib inline"
   ]
  },
  {
   "cell_type": "code",
   "execution_count": 5,
   "metadata": {},
   "outputs": [
    {
     "data": {
      "text/plain": "<AxesSubplot:>"
     },
     "execution_count": 5,
     "metadata": {},
     "output_type": "execute_result"
    },
    {
     "data": {
      "image/png": "[encoded data removed]",
      "text/plain": "<Figure size 432x288 with 1 Axes>"
     },
     "metadata": {
      "needs_background": "light"
     },
     "output_type": "display_data"
    }
   ],
   "source": [
    "df['RainTomorrow'].value_counts().plot(kind=\"bar\")"
   ]
  },
  {
   "cell_type": "code",
   "execution_count": 6,
   "metadata": {},
   "outputs": [
    {
     "data": {
      "text/html": "<div>\n<style scoped>\n    .dataframe tbody tr th:only-of-type {\n        vertical-align: middle;\n    }\n\n    .dataframe tbody tr th {\n        vertical-align: top;\n    }\n\n    .dataframe thead th {\n        text-align: right;\n    }\n</style>\n<table border=\"1\" class=\"dataframe\">\n  <thead>\n    <tr style=\"text-align: right;\">\n      <th></th>\n      <th>MinTemp</th>\n      <th>MaxTemp</th>\n      <th>Rainfall</th>\n      <th>Evaporation</th>\n      <th>Sunshine</th>\n      <th>WindGustDir</th>\n      <th>WindGustSpeed</th>\n      <th>WindDir9am</th>\n      <th>WindDir3pm</th>\n      <th>WindSpeed9am</th>\n      <th>...</th>\n      <th>Humidity9am</th>\n      <th>Humidity3pm</th>\n      <th>Pressure9am</th>\n      <th>Pressure3pm</th>\n      <th>Cloud9am</th>\n      <th>Cloud3pm</th>\n      <th>Temp9am</th>\n      <th>Temp3pm</th>\n      <th>RainToday</th>\n      <th>RainTomorrow</th>\n    </tr>\n  </thead>\n  <tbody>\n    <tr>\n      <th>517</th>\n      <td>17.6</td>\n      <td>28.2</td>\n      <td>20.6</td>\n      <td>2.2</td>\n      <td>3.5</td>\n      <td>E</td>\n      <td>33</td>\n      <td>E</td>\n      <td>SW</td>\n      <td>26</td>\n      <td>...</td>\n      <td>77</td>\n      <td>54</td>\n      <td>1012.4</td>\n      <td>1009.5</td>\n      <td>8</td>\n      <td>7</td>\n      <td>19.7</td>\n      <td>25.7</td>\n      <td>Yes</td>\n      <td>No</td>\n    </tr>\n    <tr>\n      <th>518</th>\n      <td>19.7</td>\n      <td>27.3</td>\n      <td>0.2</td>\n      <td>4.2</td>\n      <td>3.2</td>\n      <td>E</td>\n      <td>54</td>\n      <td>SE</td>\n      <td>N</td>\n      <td>11</td>\n      <td>...</td>\n      <td>78</td>\n      <td>71</td>\n      <td>1010.3</td>\n      <td>1006.6</td>\n      <td>7</td>\n      <td>7</td>\n      <td>23.2</td>\n      <td>25.7</td>\n      <td>No</td>\n      <td>No</td>\n    </tr>\n    <tr>\n      <th>519</th>\n      <td>17.0</td>\n      <td>29.8</td>\n      <td>0.6</td>\n      <td>4.8</td>\n      <td>12.0</td>\n      <td>SSW</td>\n      <td>50</td>\n      <td>SW</td>\n      <td>SW</td>\n      <td>20</td>\n      <td>...</td>\n      <td>78</td>\n      <td>44</td>\n      <td>1008.6</td>\n      <td>1007.0</td>\n      <td>5</td>\n      <td>2</td>\n      <td>21.1</td>\n      <td>27.8</td>\n      <td>No</td>\n      <td>No</td>\n    </tr>\n    <tr>\n      <th>520</th>\n      <td>21.7</td>\n      <td>36.7</td>\n      <td>0.0</td>\n      <td>37.4</td>\n      <td>12.9</td>\n      <td>NE</td>\n      <td>43</td>\n      <td>NNE</td>\n      <td>NNE</td>\n      <td>28</td>\n      <td>...</td>\n      <td>59</td>\n      <td>29</td>\n      <td>1016.1</td>\n      <td>1012.0</td>\n      <td>1</td>\n      <td>1</td>\n      <td>25.8</td>\n      <td>34.5</td>\n      <td>No</td>\n      <td>No</td>\n    </tr>\n    <tr>\n      <th>521</th>\n      <td>23.2</td>\n      <td>38.8</td>\n      <td>0.0</td>\n      <td>10.4</td>\n      <td>10.8</td>\n      <td>E</td>\n      <td>50</td>\n      <td>NNE</td>\n      <td>NE</td>\n      <td>22</td>\n      <td>...</td>\n      <td>43</td>\n      <td>22</td>\n      <td>1014.4</td>\n      <td>1011.5</td>\n      <td>1</td>\n      <td>6</td>\n      <td>28.7</td>\n      <td>38.0</td>\n      <td>No</td>\n      <td>No</td>\n    </tr>\n  </tbody>\n</table>\n<p>5 rows × 21 columns</p>\n</div>",
      "text/plain": "     MinTemp  MaxTemp  Rainfall  Evaporation  Sunshine WindGustDir  \\\n517     17.6     28.2      20.6          2.2       3.5           E   \n518     19.7     27.3       0.2          4.2       3.2           E   \n519     17.0     29.8       0.6          4.8      12.0         SSW   \n520     21.7     36.7       0.0         37.4      12.9          NE   \n521     23.2     38.8       0.0         10.4      10.8           E   \n\n     WindGustSpeed WindDir9am WindDir3pm  WindSpeed9am  ...  Humidity9am  \\\n517             33          E         SW            26  ...           77   \n518             54         SE          N            11  ...           78   \n519             50         SW         SW            20  ...           78   \n520             43        NNE        NNE            28  ...           59   \n521             50        NNE         NE            22  ...           43   \n\n     Humidity3pm  Pressure9am  Pressure3pm  Cloud9am  Cloud3pm  Temp9am  \\\n517           54       1012.4       1009.5         8         7     19.7   \n518           71       1010.3       1006.6         7         7     23.2   \n519           44       1008.6       1007.0         5         2     21.1   \n520           29       1016.1       1012.0         1         1     25.8   \n521           22       1014.4       1011.5         1         6     28.7   \n\n     Temp3pm  RainToday RainTomorrow  \n517     25.7        Yes           No  \n518     25.7         No           No  \n519     27.8         No           No  \n520     34.5         No           No  \n521     38.0         No           No  \n\n[5 rows x 21 columns]"
     },
     "execution_count": 6,
     "metadata": {},
     "output_type": "execute_result"
    }
   ],
   "source": [
    "said_no = df[df['RainTomorrow'] == 'No']\r\n",
    "said_no.head()"
   ]
  },
  {
   "cell_type": "code",
   "execution_count": 7,
   "metadata": {},
   "outputs": [
    {
     "name": "stdout",
     "output_type": "stream",
     "text": [
      "Yes    220\n",
      "No     101\n",
      "Name: RainTomorrow, dtype: int64\n"
     ]
    }
   ],
   "source": [
    "rain_today_yes = df[df['RainToday'] == 'Yes']\r\n",
    "print(rain_today_yes['RainTomorrow'].value_counts())"
   ]
  },
  {
   "cell_type": "code",
   "execution_count": 8,
   "metadata": {},
   "outputs": [
    {
     "name": "stdout",
     "output_type": "stream",
     "text": [
      "No     415\n",
      "Yes    297\n",
      "Name: RainTomorrow, dtype: int64\n"
     ]
    }
   ],
   "source": [
    "rain_today_no = df[df['RainToday'] == 'No']\r\n",
    "print(rain_today_no['RainTomorrow'].value_counts())"
   ]
  },
  {
   "cell_type": "code",
   "execution_count": 9,
   "metadata": {},
   "outputs": [
    {
     "data": {
      "text/plain": "<AxesSubplot:>"
     },
     "execution_count": 9,
     "metadata": {},
     "output_type": "execute_result"
    },
    {
     "data": {
      "image/png": "[encoded data removed]",
      "text/plain": "<Figure size 432x288 with 1 Axes>"
     },
     "metadata": {
      "needs_background": "light"
     },
     "output_type": "display_data"
    }
   ],
   "source": [
    "rain_today_no['RainTomorrow'].value_counts().plot(kind = 'bar')"
   ]
  },
  {
   "cell_type": "code",
   "execution_count": 10,
   "metadata": {},
   "outputs": [
    {
     "data": {
      "text/plain": "<AxesSubplot:>"
     },
     "execution_count": 10,
     "metadata": {},
     "output_type": "execute_result"
    },
    {
     "data": {
      "image/png": "[encoded data removed]",
      "text/plain": "<Figure size 432x288 with 1 Axes>"
     },
     "metadata": {
      "needs_background": "light"
     },
     "output_type": "display_data"
    }
   ],
   "source": [
    "rain_today_yes['RainTomorrow'].value_counts().plot(kind = 'bar')"
   ]
  },
  {
   "cell_type": "code",
   "execution_count": 11,
   "metadata": {},
   "outputs": [
    {
     "data": {
      "text/plain": "Yes    439\nNo     320\nName: RainTomorrow, dtype: int64"
     },
     "execution_count": 11,
     "metadata": {},
     "output_type": "execute_result"
    }
   ],
   "source": [
    "temp_lessthan25 = df[df[\"Temp3pm\"] < 25]\r\n",
    "temp_lessthan25['RainTomorrow'].value_counts()"
   ]
  },
  {
   "cell_type": "code",
   "execution_count": 12,
   "metadata": {},
   "outputs": [
    {
     "data": {
      "text/plain": "Yes    203\nNo      74\nName: RainTomorrow, dtype: int64"
     },
     "execution_count": 12,
     "metadata": {},
     "output_type": "execute_result"
    }
   ],
   "source": [
    "temp_lessthan25raintodayyes = rain_today_yes[rain_today_yes[\"Temp3pm\"] < 25]\r\n",
    "temp_lessthan25raintodayyes['RainTomorrow'].value_counts()"
   ]
  },
  {
   "cell_type": "code",
   "execution_count": 13,
   "metadata": {},
   "outputs": [
    {
     "data": {
      "text/plain": "<AxesSubplot:>"
     },
     "execution_count": 13,
     "metadata": {},
     "output_type": "execute_result"
    },
    {
     "data": {
      "image/png": "[encoded data removed]",
      "text/plain": "<Figure size 432x288 with 1 Axes>"
     },
     "metadata": {
      "needs_background": "light"
     },
     "output_type": "display_data"
    }
   ],
   "source": [
    "temp_lessthan25raintodayyes['RainTomorrow'].value_counts().plot(kind='bar')"
   ]
  },
  {
   "cell_type": "code",
   "execution_count": 14,
   "metadata": {},
   "outputs": [
    {
     "data": {
      "text/plain": "Yes    146\nNo      26\nName: RainTomorrow, dtype: int64"
     },
     "execution_count": 14,
     "metadata": {},
     "output_type": "execute_result"
    }
   ],
   "source": [
    "temp_lessthan20raintodayyes = rain_today_yes[rain_today_yes[\"Temp3pm\"] < 20]\r\n",
    "temp_lessthan20raintodayyes['RainTomorrow'].value_counts()"
   ]
  },
  {
   "cell_type": "code",
   "execution_count": 15,
   "metadata": {},
   "outputs": [
    {
     "name": "stdout",
     "output_type": "stream",
     "text": [
      "0       19.7\n",
      "50      23.6\n",
      "51      20.3\n",
      "52      18.6\n",
      "53      21.7\n",
      "        ... \n",
      "1011    20.9\n",
      "1018    15.4\n",
      "1022    19.1\n",
      "1023    19.0\n",
      "1032    19.8\n",
      "Name: MaxTemp, Length: 172, dtype: float64\n"
     ]
    }
   ],
   "source": [
    "print(temp_lessthan20raintodayyes[\"MaxTemp\"])"
   ]
  },
  {
   "cell_type": "code",
   "execution_count": 16,
   "metadata": {},
   "outputs": [
    {
     "data": {
      "text/plain": "<AxesSubplot:>"
     },
     "execution_count": 16,
     "metadata": {},
     "output_type": "execute_result"
    },
    {
     "data": {
      "image/png": "[encoded data removed]",
      "text/plain": "<Figure size 432x288 with 1 Axes>"
     },
     "metadata": {
      "needs_background": "light"
     },
     "output_type": "display_data"
    }
   ],
   "source": [
    "temp_lessthan20raintodayyes['RainTomorrow'].value_counts().plot(kind='bar')"
   ]
  },
  {
   "cell_type": "code",
   "execution_count": 17,
   "metadata": {},
   "outputs": [
    {
     "data": {
      "text/plain": "Yes    121\nNo      18\nName: RainTomorrow, dtype: int64"
     },
     "execution_count": 17,
     "metadata": {},
     "output_type": "execute_result"
    }
   ],
   "source": [
    "temp_lessthan18raintodayyes = rain_today_yes[rain_today_yes[\"Temp3pm\"] < 18]\r\n",
    "temp_lessthan18raintodayyes['RainTomorrow'].value_counts()"
   ]
  },
  {
   "cell_type": "code",
   "execution_count": 18,
   "metadata": {},
   "outputs": [
    {
     "data": {
      "text/plain": "Yes    80\nNo      1\nName: RainTomorrow, dtype: int64"
     },
     "execution_count": 18,
     "metadata": {},
     "output_type": "execute_result"
    }
   ],
   "source": [
    "temp_lessthan15raintodayyes = rain_today_yes[rain_today_yes[\"Temp3pm\"] < 15]\r\n",
    "temp_lessthan15raintodayyes['RainTomorrow'].value_counts()"
   ]
  },
  {
   "cell_type": "code",
   "execution_count": 19,
   "metadata": {},
   "outputs": [
    {
     "data": {
      "text/plain": "Yes    66\nNo      2\nName: RainTomorrow, dtype: int64"
     },
     "execution_count": 19,
     "metadata": {},
     "output_type": "execute_result"
    }
   ],
   "source": [
    "maxtemp_lessthan16raintodayyes = rain_today_yes[rain_today_yes[\"MaxTemp\"] < 16]\r\n",
    "maxtemp_lessthan16raintodayyes['RainTomorrow'].value_counts()"
   ]
  },
  {
   "cell_type": "code",
   "execution_count": 20,
   "metadata": {},
   "outputs": [
    {
     "data": {
      "text/plain": "<AxesSubplot:>"
     },
     "execution_count": 20,
     "metadata": {},
     "output_type": "execute_result"
    },
    {
     "data": {
      "image/png": "[encoded data removed]",
      "text/plain": "<Figure size 432x288 with 1 Axes>"
     },
     "metadata": {
      "needs_background": "light"
     },
     "output_type": "display_data"
    }
   ],
   "source": [
    "maxtemp_lessthan16raintodayyes['RainTomorrow'].value_counts().plot(kind='bar')"
   ]
  },
  {
   "cell_type": "code",
   "execution_count": 21,
   "metadata": {},
   "outputs": [
    {
     "name": "stdout",
     "output_type": "stream",
     "text": [
      "      MinTemp  MaxTemp  Rainfall  Evaporation  Sunshine WindGustDir  \\\n",
      "0        18.5     19.7      22.4         30.4       0.0         ESE   \n",
      "1        23.7     36.3       2.2         43.0      10.3         ENE   \n",
      "2        18.4     27.5       0.0         10.4       7.3         SSW   \n",
      "3        19.4     31.8       0.2         36.4       7.7         WSW   \n",
      "4        20.2     25.6       0.0          5.0      12.0           N   \n",
      "...       ...      ...       ...          ...       ...         ...   \n",
      "1028      6.4     17.1       0.0          3.0       9.5           W   \n",
      "1029      7.0     17.4       0.0          1.8       4.7         SSW   \n",
      "1030     10.0     20.1       0.0          1.8       3.2         WNW   \n",
      "1031      9.9     25.3       0.0          1.2       8.9          NW   \n",
      "1032     14.4     19.8      13.2          1.8       2.6          SW   \n",
      "\n",
      "      WindGustSpeed WindDir9am WindDir3pm  WindSpeed9am  ...  Humidity9am  \\\n",
      "0                39        ENE          E            19  ...           92   \n",
      "1                52         NE         NW            35  ...           56   \n",
      "2                39         NE          W            13  ...           75   \n",
      "3                50          N        SSW            28  ...           60   \n",
      "4                30        WNW        WNW            15  ...           73   \n",
      "...             ...        ...        ...           ...  ...          ...   \n",
      "1028             31         NW         SE            19  ...           49   \n",
      "1029             30         NW          S            13  ...           64   \n",
      "1030             24         NW         NE            13  ...           91   \n",
      "1031             37        WNW        WNW            13  ...           79   \n",
      "1032             39        WSW         SW            15  ...           97   \n",
      "\n",
      "      Humidity3pm  Pressure9am  Pressure3pm  Cloud9am  Cloud3pm  Temp9am  \\\n",
      "0              91       1010.1       1010.3         8         8     18.9   \n",
      "1              33       1010.9       1006.4         4         7     26.5   \n",
      "2              62       1017.6       1014.9         7         6     19.7   \n",
      "3              64       1020.0       1016.3         1         7     25.6   \n",
      "4              64       1005.7       1004.2         1         1     23.4   \n",
      "...           ...          ...          ...       ...       ...      ...   \n",
      "1028           41       1030.3       1027.4         1         2     10.8   \n",
      "1029           78       1033.2       1030.2         2         7     10.5   \n",
      "1030           66       1031.2       1026.9         7         7     14.3   \n",
      "1031           39       1024.4       1019.4         1         0     14.4   \n",
      "1032           91       1019.7       1016.0         7         5     15.4   \n",
      "\n",
      "      Temp3pm  RainToday RainTomorrow  \n",
      "0        18.6        Yes          Yes  \n",
      "1        34.1        Yes          Yes  \n",
      "2        24.4         No          Yes  \n",
      "3        25.2         No          Yes  \n",
      "4        24.7         No          Yes  \n",
      "...       ...        ...          ...  \n",
      "1028     15.8         No           No  \n",
      "1029     16.1         No           No  \n",
      "1030     19.0         No           No  \n",
      "1031     24.5         No           No  \n",
      "1032     16.6        Yes           No  \n",
      "\n",
      "[1033 rows x 21 columns]\n"
     ]
    }
   ],
   "source": [
    "print(df)"
   ]
  },
  {
   "cell_type": "code",
   "execution_count": 22,
   "metadata": {},
   "outputs": [
    {
     "data": {
      "text/plain": "<bound method DataFrame.value_counts of       MinTemp  MaxTemp  Rainfall  Evaporation  Sunshine  WindGustDir  \\\n0       False    False     False        False     False        False   \n1       False    False     False        False     False        False   \n2       False    False     False        False     False        False   \n3       False    False     False        False     False        False   \n4       False    False     False        False     False        False   \n...       ...      ...       ...          ...       ...          ...   \n1028    False    False     False        False     False        False   \n1029    False    False     False        False     False        False   \n1030    False    False     False        False     False        False   \n1031    False    False     False        False     False        False   \n1032    False    False     False        False     False        False   \n\n      WindGustSpeed  WindDir9am  WindDir3pm  WindSpeed9am  ...  Humidity9am  \\\n0             False       False       False         False  ...        False   \n1             False       False       False         False  ...        False   \n2             False       False       False         False  ...        False   \n3             False       False       False         False  ...        False   \n4             False       False       False         False  ...        False   \n...             ...         ...         ...           ...  ...          ...   \n1028          False       False       False         False  ...        False   \n1029          False       False       False         False  ...        False   \n1030          False       False       False         False  ...        False   \n1031          False       False       False         False  ...        False   \n1032          False       False       False         False  ...        False   \n\n      Humidity3pm  Pressure9am  Pressure3pm  Cloud9am  Cloud3pm  Temp9am  \\\n0           False        False        False     False     False    False   \n1           False        False        False     False     False    False   \n2           False        False        False     False     False    False   \n3           False        False        False     False     False    False   \n4           False        False        False     False     False    False   \n...           ...          ...          ...       ...       ...      ...   \n1028        False        False        False     False     False    False   \n1029        False        False        False     False     False    False   \n1030        False        False        False     False     False    False   \n1031        False        False        False     False     False    False   \n1032        False        False        False     False     False    False   \n\n      Temp3pm  RainToday  RainTomorrow  \n0       False      False         False  \n1       False      False         False  \n2       False      False         False  \n3       False      False         False  \n4       False      False         False  \n...       ...        ...           ...  \n1028    False      False         False  \n1029    False      False         False  \n1030    False      False         False  \n1031    False      False         False  \n1032    False      False         False  \n\n[1033 rows x 21 columns]>"
     },
     "execution_count": 22,
     "metadata": {},
     "output_type": "execute_result"
    }
   ],
   "source": [
    "df.isnull().value_counts"
   ]
  }
 ],
 "metadata": {
  "kernelspec": {
   "display_name": "Python 3.9.2 64-bit",
   "metadata": {
    "interpreter": {
     "hash": "63fd5069d213b44bf678585dea6b12cceca9941eaf7f819626cde1f2670de90d"
    }
   },
   "name": "python3"
  },
  "language_info": {
   "codemirror_mode": {
    "name": "ipython",
    "version": 3
   },
   "file_extension": ".py",
   "mimetype": "text/x-python",
   "name": "python",
   "nbconvert_exporter": "python",
   "pygments_lexer": "ipython3",
   "version": "3.9.2-final"
  },
  "orig_nbformat": 2
 },
 "nbformat": 4,
 "nbformat_minor": 2
}