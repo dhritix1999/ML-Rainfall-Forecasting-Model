{
 "cells": [
  {
   "cell_type": "code",
   "execution_count": 42,
   "metadata": {
    "collapsed": false,
    "pycharm": {
     "name": "#%%\n"
    }
   },
   "outputs": [],
   "source": [
    "import warnings\n",
    "warnings.filterwarnings('ignore')"
   ]
  },
  {
   "cell_type": "markdown",
   "metadata": {
    "collapsed": false
   },
   "source": [
    "#### We took our encoded data from other notebook and instantiated it in this notebook. The  X consists of features and the Y consists of labels."
   ]
  },
  {
   "cell_type": "code",
   "execution_count": 43,
   "metadata": {},
   "outputs": [
    {
     "name": "stdout",
     "output_type": "stream",
     "text": [
      "[[18.5 19.7 22.4 ... 18.9 18.6  1. ]\n",
      " [23.7 36.3  2.2 ... 26.5 34.1  1. ]\n",
      " [18.4 27.5  0.  ... 19.7 24.4  0. ]\n",
      " ...\n",
      " [10.  20.1  0.  ... 14.3 19.   0. ]\n",
      " [ 9.9 25.3  0.  ... 14.4 24.5  0. ]\n",
      " [14.4 19.8 13.2 ... 15.4 16.6  1. ]]\n"
     ]
    }
   ],
   "source": [
    "%store -r X\n",
    "print(X)"
   ]
  },
  {
   "cell_type": "code",
   "execution_count": 44,
   "metadata": {},
   "outputs": [
    {
     "name": "stdout",
     "output_type": "stream",
     "text": [
      "[1 1 1 ... 0 0 0]\n"
     ]
    }
   ],
   "source": [
    "%store -r Y\n",
    "print(Y)\n"
   ]
  },
  {
   "cell_type": "code",
   "execution_count": 45,
   "metadata": {},
   "outputs": [],
   "source": [
    "import numpy as np\n",
    "import matplotlib.pyplot as plt\n",
    "from sklearn import datasets\n",
    "from sklearn.svm import SVC\n",
    "from sklearn.svm import LinearSVC\n",
    "from sklearn.model_selection import KFold\n",
    "from sklearn.model_selection import cross_validate"
   ]
  },
  {
   "cell_type": "markdown",
   "metadata": {
    "collapsed": false
   },
   "source": [
    "## Linear SVC Classifier"
   ]
  },
  {
   "cell_type": "code",
   "execution_count": 61,
   "metadata": {},
   "outputs": [
    {
     "name": "stdout",
     "output_type": "stream",
     "text": [
      "Fit_time / Train_time:  [0.08776569 0.05086756 0.05086017 0.04887438 0.04886866]\n",
      "Score_time / Test_time:  [0.         0.         0.         0.00099683 0.        ]\n",
      "Test_score / Test_accuracy:  [0.69565217 0.74879227 0.76811594 0.51456311 0.84466019]\n",
      "Train_score / Train_accuracy:  [0.85714286 0.82929782 0.75423729 0.5356711  0.82345828]\n"
     ]
    }
   ],
   "source": [
    "svc = LinearSVC()\r\n",
    "\r\n",
    "cv_result = cross_validate(svc, X, Y, cv=5, return_train_score= True)\r\n",
    "\r\n",
    "print('Fit_time / Train_time: ', cv_result['fit_time'])\r\n",
    "print('Score_time / Test_time: ', cv_result['score_time'])\r\n",
    "print('Test_score / Test_accuracy: ', cv_result['test_score'])\r\n",
    "print('Train_score / Train_accuracy: ', cv_result['train_score'])\r\n"
   ]
  },
  {
   "cell_type": "markdown",
   "metadata": {
    "collapsed": false
   },
   "source": [
    "## SVC, kernel = linear "
   ]
  },
  {
   "cell_type": "code",
   "execution_count": 47,
   "metadata": {},
   "outputs": [
    {
     "name": "stdout",
     "output_type": "stream",
     "text": [
      "Fit_time / Train_time:  [0.46175909 0.59544325 0.65923476 0.69119787 0.81880951]\n",
      "Score_time / Test_time:  [0.00199342 0.00399065 0.00199533 0.00199175 0.00199485]\n",
      "Test_score / Test_accuracy:  [0.6763285  0.77777778 0.80193237 0.7961165  0.86407767]\n",
      "Train_score / Train_accuracy:  [0.86440678 0.84866828 0.84624697 0.83796856 0.83555018]\n"
     ]
    }
   ],
   "source": [
    "svc_linear_kernal = SVC(kernel='linear')\n",
    "\n",
    "cv_result_linear_kernal = cross_validate(svc_linear_kernal, X, Y, cv=5, return_train_score= True)\n",
    "\n",
    "print('Fit_time / Train_time: ', cv_result_linear_kernal['fit_time'])\n",
    "print('Score_time / Test_time: ', cv_result_linear_kernal['score_time'])\n",
    "print('Test_score / Test_accuracy: ', cv_result_linear_kernal['test_score'])\n",
    "print('Train_score / Train_accuracy: ', cv_result_linear_kernal['train_score'])"
   ]
  },
  {
   "cell_type": "markdown",
   "metadata": {
    "collapsed": false
   },
   "source": [
    "## SVC, kernel = RBF\r\n",
    "Default parameters are; gamma = 'scale', c = 1"
   ]
  },
  {
   "cell_type": "markdown",
   "metadata": {
    "collapsed": false
   },
   "source": [
    "### gamma = auto"
   ]
  },
  {
   "cell_type": "code",
   "execution_count": 60,
   "metadata": {},
   "outputs": [
    {
     "name": "stdout",
     "output_type": "stream",
     "text": [
      "Fit_time / Train_time:  [0.03989387 0.03391266 0.03486848 0.0378592  0.03393412]\n",
      "Score_time / Test_time:  [0.0349443  0.01994634 0.02098227 0.0179913  0.01992559]\n",
      "Test_score / Test_accuracy:  [0.50241546 0.57971014 0.51207729 0.56796117 0.53883495]\n",
      "Train_score / Train_accuracy:  [1. 1. 1. 1. 1.]\n"
     ]
    }
   ],
   "source": [
    "svc_rbf_kernal = SVC(kernel='rbf', C = 1, gamma= 'auto')\r\n",
    "\r\n",
    "cv_result_rbf_kernal = cross_validate(svc_rbf_kernal, X, Y, cv=5, return_train_score= True)\r\n",
    "\r\n",
    "print('Fit_time / Train_time: ', cv_result_rbf_kernal['fit_time'])\r\n",
    "print('Score_time / Test_time: ', cv_result_rbf_kernal['score_time'])\r\n",
    "print('Test_score / Test_accuracy: ', cv_result_rbf_kernal['test_score'])\r\n",
    "print('Train_score / Train_accuracy: ', cv_result_rbf_kernal['train_score'])"
   ]
  },
  {
   "cell_type": "markdown",
   "metadata": {
    "collapsed": false
   },
   "source": [
    "### gamma = 10"
   ]
  },
  {
   "cell_type": "code",
   "execution_count": 57,
   "metadata": {},
   "outputs": [
    {
     "name": "stdout",
     "output_type": "stream",
     "text": [
      "Fit_time / Train_time:  [0.06533813 0.05987525 0.0658884  0.06289983 0.06183648]\n",
      "Score_time / Test_time:  [0.03291035 0.0408535  0.02786231 0.0288527  0.02592945]\n",
      "Test_score / Test_accuracy:  [0.50724638 0.52173913 0.49758454 0.5        0.5       ]\n",
      "Train_score / Train_accuracy:  [1. 1. 1. 1. 1.]\n"
     ]
    }
   ],
   "source": [
    "svc_rbf_kernal = SVC(kernel='rbf', C = 1, gamma=10)\r\n",
    "\r\n",
    "cv_result_rbf_kernal = cross_validate(svc_rbf_kernal, X, Y, cv=5, return_train_score= True)\r\n",
    "\r\n",
    "print('Fit_time / Train_time: ', cv_result_rbf_kernal['fit_time'])\r\n",
    "print('Score_time / Test_time: ', cv_result_rbf_kernal['score_time'])\r\n",
    "print('Test_score / Test_accuracy: ', cv_result_rbf_kernal['test_score'])\r\n",
    "print('Train_score / Train_accuracy: ', cv_result_rbf_kernal['train_score'])"
   ]
  },
  {
   "cell_type": "markdown",
   "metadata": {},
   "source": [
    "### gamma = 'scale'"
   ]
  },
  {
   "cell_type": "code",
   "execution_count": 50,
   "metadata": {},
   "outputs": [
    {
     "name": "stdout",
     "output_type": "stream",
     "text": [
      "Fit_time / Train_time:  [0.03590393 0.03390408 0.03191853 0.03291273 0.03490591]\n",
      "Score_time / Test_time:  [0.02194118 0.01798987 0.01794672 0.01798797 0.03490758]\n",
      "Test_score / Test_accuracy:  [0.69565217 0.7294686  0.50724638 0.55339806 0.51456311]\n",
      "Train_score / Train_accuracy:  [0.77966102 0.7433414  0.54600484 0.56348247 0.54655381]\n"
     ]
    }
   ],
   "source": [
    "svc_rbf_kernal = SVC(kernel='rbf', gamma='scale')\r\n",
    "\r\n",
    "cv_result_rbf_kernal = cross_validate(svc_rbf_kernal, X, Y, cv=5, return_train_score= True)\r\n",
    "\r\n",
    "print('Fit_time / Train_time: ', cv_result_rbf_kernal['fit_time'])\r\n",
    "print('Score_time / Test_time: ', cv_result_rbf_kernal['score_time'])\r\n",
    "print('Test_score / Test_accuracy: ', cv_result_rbf_kernal['test_score'])\r\n",
    "print('Train_score / Train_accuracy: ', cv_result_rbf_kernal['train_score'])"
   ]
  },
  {
   "cell_type": "markdown",
   "metadata": {
    "collapsed": false
   },
   "source": [
    "### gamma = 'scale', c = 10"
   ]
  },
  {
   "cell_type": "code",
   "execution_count": 51,
   "metadata": {},
   "outputs": [
    {
     "name": "stdout",
     "output_type": "stream",
     "text": [
      "Fit_time / Train_time:  [0.03148508 0.02589512 0.02692676 0.02493119 0.02693892]\n",
      "Score_time / Test_time:  [0.01492333 0.01395869 0.01599646 0.01400304 0.01994658]\n",
      "Test_score / Test_accuracy:  [0.71497585 0.7826087  0.80193237 0.7815534  0.80582524]\n",
      "Train_score / Train_accuracy:  [0.79782082 0.78692494 0.78813559 0.77267231 0.77146312]\n"
     ]
    }
   ],
   "source": [
    "svc_rbf_kernal = SVC(kernel='rbf', C = 10, gamma='scale')\r\n",
    "\r\n",
    "cv_result_rbf_kernal = cross_validate(svc_rbf_kernal, X, Y, cv=5, return_train_score= True)\r\n",
    "\r\n",
    "print('Fit_time / Train_time: ', cv_result_rbf_kernal['fit_time'])\r\n",
    "print('Score_time / Test_time: ', cv_result_rbf_kernal['score_time'])\r\n",
    "print('Test_score / Test_accuracy: ', cv_result_rbf_kernal['test_score'])\r\n",
    "print('Train_score / Train_accuracy: ', cv_result_rbf_kernal['train_score'])"
   ]
  },
  {
   "cell_type": "markdown",
   "metadata": {},
   "source": [
    "### gamma = 'scale', c = 100"
   ]
  },
  {
   "cell_type": "code",
   "execution_count": 52,
   "metadata": {},
   "outputs": [
    {
     "name": "stdout",
     "output_type": "stream",
     "text": [
      "Fit_time / Train_time:  [0.02293849 0.01898909 0.02293801 0.01798987 0.02293825]\n",
      "Score_time / Test_time:  [0.01196814 0.0139246  0.00997734 0.01492047 0.01093221]\n",
      "Test_score / Test_accuracy:  [0.73913043 0.77777778 0.75362319 0.82038835 0.83495146]\n",
      "Train_score / Train_accuracy:  [0.82808717 0.81719128 0.81840194 0.80048368 0.79443773]\n"
     ]
    }
   ],
   "source": [
    "svc_rbf_kernal = SVC(kernel='rbf', C = 100, gamma='scale')\n",
    "\n",
    "cv_result_rbf_kernal = cross_validate(svc_rbf_kernal, X, Y, cv=5, return_train_score= True)\n",
    "\n",
    "print('Fit_time / Train_time: ', cv_result_rbf_kernal['fit_time'])\n",
    "print('Score_time / Test_time: ', cv_result_rbf_kernal['score_time'])\n",
    "print('Test_score / Test_accuracy: ', cv_result_rbf_kernal['test_score'])\n",
    "print('Train_score / Train_accuracy: ', cv_result_rbf_kernal['train_score'])"
   ]
  },
  {
   "cell_type": "markdown",
   "metadata": {},
   "source": [
    "## SVC, kernel = sigmoid"
   ]
  },
  {
   "cell_type": "code",
   "execution_count": 53,
   "metadata": {},
   "outputs": [
    {
     "name": "stdout",
     "output_type": "stream",
     "text": [
      "Fit_time / Train_time:  [0.0469358  0.05186129 0.04786491 0.05189943 0.04288459]\n",
      "Score_time / Test_time:  [0.00997496 0.01001477 0.01097107 0.01392484 0.01097775]\n",
      "Test_score / Test_accuracy:  [0.67149758 0.65217391 0.49758454 0.5        0.5       ]\n",
      "Train_score / Train_accuracy:  [0.7433414  0.70702179 0.50121065 0.50060459 0.50060459]\n"
     ]
    }
   ],
   "source": [
    "svc_sigmoid = SVC(kernel='sigmoid')\n",
    "\n",
    "cv_result_sigmoid_kernal = cross_validate(svc_sigmoid, X, Y, cv=5, return_train_score= True)\n",
    "\n",
    "print('Fit_time / Train_time: ', cv_result_sigmoid_kernal['fit_time'])\n",
    "print('Score_time / Test_time: ', cv_result_sigmoid_kernal['score_time'])\n",
    "print('Test_score / Test_accuracy: ', cv_result_sigmoid_kernal['test_score'])\n",
    "print('Train_score / Train_accuracy: ', cv_result_sigmoid_kernal['train_score'])"
   ]
  },
  {
   "cell_type": "markdown",
   "metadata": {},
   "source": [
    "## SVC, kernel = poly\r\n",
    "### degree = 3"
   ]
  },
  {
   "cell_type": "code",
   "execution_count": 54,
   "metadata": {},
   "outputs": [
    {
     "name": "stdout",
     "output_type": "stream",
     "text": [
      "Fit_time / Train_time:  [0.02467108 0.02389956 0.01994681 0.02393508 0.02796412]\n",
      "Score_time / Test_time:  [0.00498629 0.00498533 0.00498652 0.0039897  0.00498843]\n",
      "Test_score / Test_accuracy:  [0.70048309 0.76328502 0.80676329 0.75242718 0.79126214]\n",
      "Train_score / Train_accuracy:  [0.78571429 0.76634383 0.7566586  0.76299879 0.75695284]\n"
     ]
    }
   ],
   "source": [
    "svc_poly = SVC(kernel='poly')\n",
    "\n",
    "cv_result_poly_kernal = cross_validate(svc_poly, X, Y, cv=5, return_train_score= True)\n",
    "\n",
    "print('Fit_time / Train_time: ', cv_result_poly_kernal['fit_time'])\n",
    "print('Score_time / Test_time: ', cv_result_poly_kernal['score_time'])\n",
    "print('Test_score / Test_accuracy: ', cv_result_poly_kernal['test_score'])\n",
    "print('Train_score / Train_accuracy: ', cv_result_poly_kernal['train_score'])"
   ]
  },
  {
   "cell_type": "markdown",
   "metadata": {},
   "source": [
    "### degree = 5"
   ]
  },
  {
   "cell_type": "code",
   "execution_count": 55,
   "metadata": {},
   "outputs": [
    {
     "name": "stdout",
     "output_type": "stream",
     "text": [
      "Fit_time / Train_time:  [0.02792645 0.02290511 0.02692819 0.02191043 0.02806306]\n",
      "Score_time / Test_time:  [0.00498533 0.00498009 0.00398922 0.00497913 0.00498605]\n",
      "Test_score / Test_accuracy:  [0.71014493 0.7826087  0.7826087  0.76699029 0.81553398]\n",
      "Train_score / Train_accuracy:  [0.79418886 0.78450363 0.78208232 0.76904474 0.76783555]\n"
     ]
    }
   ],
   "source": [
    "svc_poly = SVC(kernel='poly', degree = 5)\n",
    "\n",
    "cv_result_poly_kernal = cross_validate(svc_poly, X, Y, cv=5, return_train_score= True)\n",
    "\n",
    "print('Fit_time / Train_time: ', cv_result_poly_kernal['fit_time'])\n",
    "print('Score_time / Test_time: ', cv_result_poly_kernal['score_time'])\n",
    "print('Test_score / Test_accuracy: ', cv_result_poly_kernal['test_score'])\n",
    "print('Train_score / Train_accuracy: ', cv_result_poly_kernal['train_score'])"
   ]
  },
  {
   "cell_type": "markdown",
   "metadata": {},
   "source": [
    "### degree = 10"
   ]
  },
  {
   "cell_type": "code",
   "execution_count": 56,
   "metadata": {},
   "outputs": [
    {
     "name": "stdout",
     "output_type": "stream",
     "text": [
      "Fit_time / Train_time:  [0.01994538 0.01791263 0.01990867 0.01891375 0.01698518]\n",
      "Score_time / Test_time:  [0.00398922 0.00402761 0.00303006 0.00298953 0.00299335]\n",
      "Test_score / Test_accuracy:  [0.72463768 0.80193237 0.76811594 0.78640777 0.82038835]\n",
      "Train_score / Train_accuracy:  [0.81113801 0.80145278 0.80508475 0.77992745 0.78718259]\n"
     ]
    }
   ],
   "source": [
    "svc_poly = SVC(kernel='poly', degree = 10)\n",
    "\n",
    "cv_result_poly_kernal = cross_validate(svc_poly, X, Y, cv=5, return_train_score= True)\n",
    "\n",
    "print('Fit_time / Train_time: ', cv_result_poly_kernal['fit_time'])\n",
    "print('Score_time / Test_time: ', cv_result_poly_kernal['score_time'])\n",
    "print('Test_score / Test_accuracy: ', cv_result_poly_kernal['test_score'])\n",
    "print('Train_score / Train_accuracy: ', cv_result_poly_kernal['train_score'])"
   ]
  },
  {
   "cell_type": "code",
   "execution_count": null,
   "metadata": {},
   "outputs": [],
   "source": []
  }
 ],
 "metadata": {
  "kernelspec": {
   "display_name": "Python 3.9.2 64-bit",
   "metadata": {
    "interpreter": {
     "hash": "63fd5069d213b44bf678585dea6b12cceca9941eaf7f819626cde1f2670de90d"
    }
   },
   "name": "python3"
  },
  "language_info": {
   "codemirror_mode": {
    "name": "ipython",
    "version": 3
   },
   "file_extension": ".py",
   "mimetype": "text/x-python",
   "name": "python",
   "nbconvert_exporter": "python",
   "pygments_lexer": "ipython3",
   "version": "3.9.2-final"
  },
  "orig_nbformat": 2
 },
 "nbformat": 4,
 "nbformat_minor": 2
}