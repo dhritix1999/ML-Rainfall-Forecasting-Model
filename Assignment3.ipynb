{
 "metadata": {
  "language_info": {
   "codemirror_mode": {
    "name": "ipython",
    "version": 3
   },
   "file_extension": ".py",
   "mimetype": "text/x-python",
   "name": "python",
   "nbconvert_exporter": "python",
   "pygments_lexer": "ipython3",
   "version": "3.9.2-final"
  },
  "orig_nbformat": 2,
  "kernelspec": {
   "name": "python3",
   "display_name": "Python 3.9.2 64-bit",
   "metadata": {
    "interpreter": {
     "hash": "565403b5684cc72ad1df74761f0871441393b3f5c164e2ef07e55caf67f37f7a"
    }
   }
  }
 },
 "nbformat": 4,
 "nbformat_minor": 2,
 "cells": [
  {
   "cell_type": "code",
   "execution_count": 67,
   "metadata": {},
   "outputs": [],
   "source": [
    "import warnings\n",
    "warnings.filterwarnings('ignore')"
   ]
  },
  {
   "cell_type": "code",
   "execution_count": 68,
   "metadata": {},
   "outputs": [
    {
     "output_type": "stream",
     "name": "stdout",
     "text": [
      "[[18.5 19.7 22.4 ... 18.9 18.6  1. ]\n [23.7 36.3  2.2 ... 26.5 34.1  1. ]\n [18.4 27.5  0.  ... 19.7 24.4  0. ]\n ...\n [10.  20.1  0.  ... 14.3 19.   0. ]\n [ 9.9 25.3  0.  ... 14.4 24.5  0. ]\n [14.4 19.8 13.2 ... 15.4 16.6  1. ]]\n"
     ]
    }
   ],
   "source": [
    "%store -r X\n",
    "print(X)"
   ]
  },
  {
   "cell_type": "code",
   "execution_count": 69,
   "metadata": {},
   "outputs": [
    {
     "output_type": "stream",
     "name": "stdout",
     "text": [
      "[1 1 1 ... 0 0 0]\n"
     ]
    }
   ],
   "source": [
    "%store -r Y\n",
    "print(Y)\n"
   ]
  },
  {
   "cell_type": "code",
   "execution_count": 70,
   "metadata": {},
   "outputs": [],
   "source": [
    "import numpy as np\n",
    "import matplotlib.pyplot as plt\n",
    "from sklearn import datasets\n",
    "from sklearn.svm import SVC\n",
    "from sklearn.svm import LinearSVC\n",
    "from sklearn.model_selection import KFold\n",
    "from sklearn.model_selection import cross_validate"
   ]
  },
  {
   "cell_type": "code",
   "execution_count": 71,
   "metadata": {},
   "outputs": [],
   "source": [
    "svc = LinearSVC();"
   ]
  },
  {
   "cell_type": "code",
   "execution_count": 74,
   "metadata": {},
   "outputs": [
    {
     "output_type": "stream",
     "name": "stdout",
     "text": [
      "Fit_time / Train_time:  [0.04890704 0.03949308 0.04041481 0.04073238 0.04210234]\nScore_time / Test_time:  [0.         0.00054812 0.         0.00078845 0.0010221 ]\nTest_score / Test_accuracy:  [0.68599034 0.50241546 0.74879227 0.83009709 0.7038835 ]\nTrain_score / Train_accuracy:  [0.82808717 0.50363196 0.81961259 0.81862152 0.7617896 ]\n"
     ]
    }
   ],
   "source": [
    "cv_result = cross_validate(svc, X, Y, cv=5, return_train_score= True)\n",
    "\n",
    "print('Fit_time / Train_time: ', cv_result['fit_time'])\n",
    "print('Score_time / Test_time: ', cv_result['score_time'])\n",
    "print('Test_score / Test_accuracy: ', cv_result['test_score'])\n",
    "print('Train_score / Train_accuracy: ', cv_result['train_score'])"
   ]
  },
  {
   "cell_type": "code",
   "execution_count": 75,
   "metadata": {},
   "outputs": [],
   "source": [
    "svc_linear_kernal = SVC(kernel='linear')"
   ]
  },
  {
   "cell_type": "code",
   "execution_count": 76,
   "metadata": {},
   "outputs": [
    {
     "output_type": "stream",
     "name": "stdout",
     "text": [
      "Fit_time / Train_time:  [0.30803895 0.3709228  0.47481847 0.53463578 0.47992682]\nScore_time / Test_time:  [0.00201678 0.00120163 0.00197554 0.00217557 0.00133944]\nTest_score / Test_accuracy:  [0.6763285  0.77777778 0.80193237 0.7961165  0.86407767]\nTrain_score / Train_accuracy:  [0.86440678 0.84866828 0.84624697 0.83796856 0.83555018]\n"
     ]
    }
   ],
   "source": [
    "cv_result_linear_kernal = cross_validate(svc_linear_kernal, X, Y, cv=5, return_train_score= True)\n",
    "\n",
    "print('Fit_time / Train_time: ', cv_result_linear_kernal['fit_time'])\n",
    "print('Score_time / Test_time: ', cv_result_linear_kernal['score_time'])\n",
    "print('Test_score / Test_accuracy: ', cv_result_linear_kernal['test_score'])\n",
    "print('Train_score / Train_accuracy: ', cv_result_linear_kernal['train_score'])"
   ]
  },
  {
   "cell_type": "code",
   "execution_count": 124,
   "metadata": {},
   "outputs": [],
   "source": [
    "svc_rbf_kernal = SVC(kernel='rbf', C = 1, gamma= 'auto')"
   ]
  },
  {
   "cell_type": "code",
   "execution_count": 125,
   "metadata": {},
   "outputs": [
    {
     "output_type": "stream",
     "name": "stdout",
     "text": [
      "Fit_time / Train_time:  [0.03617978 0.02670765 0.02829099 0.02814341 0.02920222]\nScore_time / Test_time:  [0.01752663 0.01592517 0.01710773 0.01519823 0.01557422]\nTest_score / Test_accuracy:  [0.50241546 0.57971014 0.51207729 0.56796117 0.53883495]\nTrain_score / Train_accuracy:  [1. 1. 1. 1. 1.]\n"
     ]
    }
   ],
   "source": [
    "cv_result_rbf_kernal = cross_validate(svc_rbf_kernal, X, Y, cv=5, return_train_score= True)\n",
    "\n",
    "print('Fit_time / Train_time: ', cv_result_rbf_kernal['fit_time'])\n",
    "print('Score_time / Test_time: ', cv_result_rbf_kernal['score_time'])\n",
    "print('Test_score / Test_accuracy: ', cv_result_rbf_kernal['test_score'])\n",
    "print('Train_score / Train_accuracy: ', cv_result_rbf_kernal['train_score'])"
   ]
  },
  {
   "cell_type": "code",
   "execution_count": 126,
   "metadata": {},
   "outputs": [],
   "source": [
    "svc_rbf_kernal = SVC(kernel='rbf', C = 1, gamma = 'scale')"
   ]
  },
  {
   "cell_type": "code",
   "execution_count": 127,
   "metadata": {},
   "outputs": [
    {
     "output_type": "stream",
     "name": "stdout",
     "text": [
      "Fit_time / Train_time:  [0.0285399  0.02457809 0.0246079  0.02501273 0.02409077]\nScore_time / Test_time:  [0.01673079 0.01576519 0.01595259 0.01696348 0.01498938]\nTest_score / Test_accuracy:  [0.69565217 0.7294686  0.50724638 0.55339806 0.51456311]\nTrain_score / Train_accuracy:  [0.77966102 0.7433414  0.54600484 0.56348247 0.54655381]\n"
     ]
    }
   ],
   "source": [
    "cv_result_rbf_kernal = cross_validate(svc_rbf_kernal, X, Y, cv=5, return_train_score= True)\n",
    "\n",
    "print('Fit_time / Train_time: ', cv_result_rbf_kernal['fit_time'])\n",
    "print('Score_time / Test_time: ', cv_result_rbf_kernal['score_time'])\n",
    "print('Test_score / Test_accuracy: ', cv_result_rbf_kernal['test_score'])\n",
    "print('Train_score / Train_accuracy: ', cv_result_rbf_kernal['train_score'])"
   ]
  },
  {
   "cell_type": "code",
   "execution_count": 128,
   "metadata": {},
   "outputs": [],
   "source": [
    "svc_rbf_kernal = SVC(kernel='rbf', C = 1, gamma = 10)"
   ]
  },
  {
   "cell_type": "code",
   "execution_count": 129,
   "metadata": {},
   "outputs": [
    {
     "output_type": "stream",
     "name": "stdout",
     "text": [
      "Fit_time / Train_time:  [0.05311728 0.04532504 0.05063248 0.04805589 0.04827428]\nScore_time / Test_time:  [0.02398777 0.02094316 0.02144217 0.02110147 0.02105236]\nTest_score / Test_accuracy:  [0.50724638 0.52173913 0.49758454 0.5        0.5       ]\nTrain_score / Train_accuracy:  [1. 1. 1. 1. 1.]\n"
     ]
    }
   ],
   "source": [
    "cv_result_rbf_kernal = cross_validate(svc_rbf_kernal, X, Y, cv=5, return_train_score= True)\n",
    "\n",
    "print('Fit_time / Train_time: ', cv_result_rbf_kernal['fit_time'])\n",
    "print('Score_time / Test_time: ', cv_result_rbf_kernal['score_time'])\n",
    "print('Test_score / Test_accuracy: ', cv_result_rbf_kernal['test_score'])\n",
    "print('Train_score / Train_accuracy: ', cv_result_rbf_kernal['train_score'])"
   ]
  },
  {
   "cell_type": "code",
   "execution_count": 130,
   "metadata": {},
   "outputs": [],
   "source": [
    "svc_rbf_kernal = SVC(kernel='rbf', C = 1, gamma = 100)"
   ]
  },
  {
   "cell_type": "code",
   "execution_count": 131,
   "metadata": {},
   "outputs": [
    {
     "output_type": "stream",
     "name": "stdout",
     "text": [
      "Fit_time / Train_time:  [0.05176973 0.04897165 0.05262065 0.04946685 0.04814506]\nScore_time / Test_time:  [0.02396584 0.02084923 0.02198505 0.02372718 0.02066445]\nTest_score / Test_accuracy:  [0.50241546 0.50241546 0.49758454 0.5        0.5       ]\nTrain_score / Train_accuracy:  [1. 1. 1. 1. 1.]\n"
     ]
    }
   ],
   "source": [
    "cv_result_rbf_kernal = cross_validate(svc_rbf_kernal, X, Y, cv=5, return_train_score= True)\n",
    "\n",
    "print('Fit_time / Train_time: ', cv_result_rbf_kernal['fit_time'])\n",
    "print('Score_time / Test_time: ', cv_result_rbf_kernal['score_time'])\n",
    "print('Test_score / Test_accuracy: ', cv_result_rbf_kernal['test_score'])\n",
    "print('Train_score / Train_accuracy: ', cv_result_rbf_kernal['train_score'])"
   ]
  },
  {
   "cell_type": "code",
   "execution_count": 132,
   "metadata": {},
   "outputs": [],
   "source": [
    "svc_rbf_kernal = SVC(kernel='rbf', C = 1, gamma='scale')"
   ]
  },
  {
   "cell_type": "code",
   "execution_count": 133,
   "metadata": {},
   "outputs": [
    {
     "output_type": "stream",
     "name": "stdout",
     "text": [
      "Fit_time / Train_time:  [0.02990913 0.02299619 0.02279902 0.02497029 0.02367187]\nScore_time / Test_time:  [0.0179565  0.01586747 0.0153687  0.01583862 0.01699305]\nTest_score / Test_accuracy:  [0.69565217 0.7294686  0.50724638 0.55339806 0.51456311]\nTrain_score / Train_accuracy:  [0.77966102 0.7433414  0.54600484 0.56348247 0.54655381]\n"
     ]
    }
   ],
   "source": [
    "cv_result_rbf_kernal = cross_validate(svc_rbf_kernal, X, Y, cv=5, return_train_score= True)\n",
    "\n",
    "print('Fit_time / Train_time: ', cv_result_rbf_kernal['fit_time'])\n",
    "print('Score_time / Test_time: ', cv_result_rbf_kernal['score_time'])\n",
    "print('Test_score / Test_accuracy: ', cv_result_rbf_kernal['test_score'])\n",
    "print('Train_score / Train_accuracy: ', cv_result_rbf_kernal['train_score'])"
   ]
  },
  {
   "cell_type": "code",
   "execution_count": 134,
   "metadata": {},
   "outputs": [
    {
     "output_type": "stream",
     "name": "stdout",
     "text": [
      "Fit_time / Train_time:  [0.0323658  0.01901031 0.02214289 0.01850152 0.02090859]\nScore_time / Test_time:  [0.01275349 0.0125134  0.01984954 0.01141429 0.0119679 ]\nTest_score / Test_accuracy:  [0.71497585 0.7826087  0.80193237 0.7815534  0.80582524]\nTrain_score / Train_accuracy:  [0.79782082 0.78692494 0.78813559 0.77267231 0.77146312]\n"
     ]
    }
   ],
   "source": [
    "svc_rbf_kernal = SVC(kernel='rbf', C = 10, gamma='scale')\n",
    "\n",
    "cv_result_rbf_kernal = cross_validate(svc_rbf_kernal, X, Y, cv=5, return_train_score= True)\n",
    "\n",
    "print('Fit_time / Train_time: ', cv_result_rbf_kernal['fit_time'])\n",
    "print('Score_time / Test_time: ', cv_result_rbf_kernal['score_time'])\n",
    "print('Test_score / Test_accuracy: ', cv_result_rbf_kernal['test_score'])\n",
    "print('Train_score / Train_accuracy: ', cv_result_rbf_kernal['train_score'])"
   ]
  },
  {
   "cell_type": "code",
   "execution_count": 136,
   "metadata": {},
   "outputs": [
    {
     "output_type": "stream",
     "name": "stdout",
     "text": [
      "Fit_time / Train_time:  [0.0165031  0.01692367 0.014292   0.01529002 0.01510191]\nScore_time / Test_time:  [0.00901508 0.009974   0.00888538 0.00950503 0.00859547]\nTest_score / Test_accuracy:  [0.73913043 0.77777778 0.75362319 0.82038835 0.83495146]\nTrain_score / Train_accuracy:  [0.82808717 0.81719128 0.81840194 0.80048368 0.79443773]\n"
     ]
    }
   ],
   "source": [
    "svc_rbf_kernal = SVC(kernel='rbf', C = 100, gamma='scale')\n",
    "\n",
    "cv_result_rbf_kernal = cross_validate(svc_rbf_kernal, X, Y, cv=5, return_train_score= True)\n",
    "\n",
    "print('Fit_time / Train_time: ', cv_result_rbf_kernal['fit_time'])\n",
    "print('Score_time / Test_time: ', cv_result_rbf_kernal['score_time'])\n",
    "print('Test_score / Test_accuracy: ', cv_result_rbf_kernal['test_score'])\n",
    "print('Train_score / Train_accuracy: ', cv_result_rbf_kernal['train_score'])"
   ]
  },
  {
   "cell_type": "code",
   "execution_count": 137,
   "metadata": {},
   "outputs": [
    {
     "output_type": "stream",
     "name": "stdout",
     "text": [
      "Fit_time / Train_time:  [0.01801133 0.01482415 0.01495838 0.01756668 0.01531816]\nScore_time / Test_time:  [0.00997519 0.00927138 0.01022744 0.00948477 0.00797725]\nTest_score / Test_accuracy:  [0.74879227 0.79710145 0.75845411 0.81553398 0.83495146]\nTrain_score / Train_accuracy:  [0.8377724  0.82324455 0.82445521 0.81136638 0.80169287]\n"
     ]
    }
   ],
   "source": [
    "svc_rbf_kernal = SVC(kernel='rbf', C = 200, gamma='scale')\n",
    "\n",
    "cv_result_rbf_kernal = cross_validate(svc_rbf_kernal, X, Y, cv=5, return_train_score= True)\n",
    "\n",
    "print('Fit_time / Train_time: ', cv_result_rbf_kernal['fit_time'])\n",
    "print('Score_time / Test_time: ', cv_result_rbf_kernal['score_time'])\n",
    "print('Test_score / Test_accuracy: ', cv_result_rbf_kernal['test_score'])\n",
    "print('Train_score / Train_accuracy: ', cv_result_rbf_kernal['train_score'])"
   ]
  },
  {
   "cell_type": "code",
   "execution_count": 139,
   "metadata": {},
   "outputs": [
    {
     "output_type": "stream",
     "name": "stdout",
     "text": [
      "Fit_time / Train_time:  [0.03843856 0.03455281 0.03419256 0.03433323 0.03394341]\nScore_time / Test_time:  [0.00907016 0.00799894 0.0081203  0.00809121 0.00862432]\nTest_score / Test_accuracy:  [0.67149758 0.65217391 0.49758454 0.5        0.5       ]\nTrain_score / Train_accuracy:  [0.7433414  0.70702179 0.50121065 0.50060459 0.50060459]\n"
     ]
    }
   ],
   "source": [
    "svc_sigmoid = SVC(kernel='sigmoid')\n",
    "\n",
    "cv_result_sigmoid_kernal = cross_validate(svc_sigmoid, X, Y, cv=5, return_train_score= True)\n",
    "\n",
    "print('Fit_time / Train_time: ', cv_result_sigmoid_kernal['fit_time'])\n",
    "print('Score_time / Test_time: ', cv_result_sigmoid_kernal['score_time'])\n",
    "print('Test_score / Test_accuracy: ', cv_result_sigmoid_kernal['test_score'])\n",
    "print('Train_score / Train_accuracy: ', cv_result_sigmoid_kernal['train_score'])"
   ]
  },
  {
   "cell_type": "code",
   "execution_count": 140,
   "metadata": {},
   "outputs": [
    {
     "output_type": "stream",
     "name": "stdout",
     "text": [
      "Fit_time / Train_time:  [0.02524686 0.01768875 0.01894879 0.01909208 0.01695466]\nScore_time / Test_time:  [0.00492454 0.00488925 0.00418949 0.0039854  0.00398946]\nTest_score / Test_accuracy:  [0.70048309 0.76328502 0.80676329 0.75242718 0.79126214]\nTrain_score / Train_accuracy:  [0.78571429 0.76634383 0.7566586  0.76299879 0.75695284]\n"
     ]
    }
   ],
   "source": [
    "svc_poly = SVC(kernel='poly')\n",
    "\n",
    "cv_result_poly_kernal = cross_validate(svc_poly, X, Y, cv=5, return_train_score= True)\n",
    "\n",
    "print('Fit_time / Train_time: ', cv_result_poly_kernal['fit_time'])\n",
    "print('Score_time / Test_time: ', cv_result_poly_kernal['score_time'])\n",
    "print('Test_score / Test_accuracy: ', cv_result_poly_kernal['test_score'])\n",
    "print('Train_score / Train_accuracy: ', cv_result_poly_kernal['train_score'])"
   ]
  },
  {
   "cell_type": "code",
   "execution_count": 141,
   "metadata": {},
   "outputs": [
    {
     "output_type": "stream",
     "name": "stdout",
     "text": [
      "Fit_time / Train_time:  [0.01396132 0.01311612 0.01288152 0.01404095 0.01396298]\nScore_time / Test_time:  [0.00336766 0.00398922 0.00321293 0.00299668 0.00299168]\nTest_score / Test_accuracy:  [0.72463768 0.80193237 0.76811594 0.78640777 0.82038835]\nTrain_score / Train_accuracy:  [0.81113801 0.80145278 0.80508475 0.77992745 0.78718259]\n"
     ]
    }
   ],
   "source": [
    "svc_poly = SVC(kernel='poly', degree = 10)\n",
    "\n",
    "cv_result_poly_kernal = cross_validate(svc_poly, X, Y, cv=5, return_train_score= True)\n",
    "\n",
    "print('Fit_time / Train_time: ', cv_result_poly_kernal['fit_time'])\n",
    "print('Score_time / Test_time: ', cv_result_poly_kernal['score_time'])\n",
    "print('Test_score / Test_accuracy: ', cv_result_poly_kernal['test_score'])\n",
    "print('Train_score / Train_accuracy: ', cv_result_poly_kernal['train_score'])"
   ]
  },
  {
   "cell_type": "code",
   "execution_count": null,
   "metadata": {},
   "outputs": [],
   "source": [
    "svc_poly = SVC(kernel='poly', degree = 20)\n",
    "\n",
    "cv_result_poly_kernal = cross_validate(svc_poly, X, Y, cv=5, return_train_score= True)\n",
    "\n",
    "print('Fit_time / Train_time: ', cv_result_poly_kernal['fit_time'])\n",
    "print('Score_time / Test_time: ', cv_result_poly_kernal['score_time'])\n",
    "print('Test_score / Test_accuracy: ', cv_result_poly_kernal['test_score'])\n",
    "print('Train_score / Train_accuracy: ', cv_result_poly_kernal['train_score'])"
   ]
  },
  {
   "cell_type": "code",
   "execution_count": null,
   "metadata": {},
   "outputs": [],
   "source": []
  }
 ]
}