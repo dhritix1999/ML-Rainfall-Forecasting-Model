{
 "metadata": {
  "language_info": {
   "codemirror_mode": {
    "name": "ipython",
    "version": 3
   },
   "file_extension": ".py",
   "mimetype": "text/x-python",
   "name": "python",
   "nbconvert_exporter": "python",
   "pygments_lexer": "ipython3",
   "version": "3.9.2-final"
  },
  "orig_nbformat": 2,
  "kernelspec": {
   "name": "python3",
   "display_name": "Python 3.9.2 64-bit",
   "metadata": {
    "interpreter": {
     "hash": "565403b5684cc72ad1df74761f0871441393b3f5c164e2ef07e55caf67f37f7a"
    }
   }
  }
 },
 "nbformat": 4,
 "nbformat_minor": 2,
 "cells": [
  {
   "cell_type": "code",
   "execution_count": 29,
   "metadata": {},
   "outputs": [],
   "source": [
    "import warnings\n",
    "warnings.filterwarnings('ignore')"
   ]
  },
  {
   "cell_type": "code",
   "execution_count": 30,
   "metadata": {},
   "outputs": [
    {
     "output_type": "stream",
     "name": "stdout",
     "text": [
      "[[18.5 19.7 22.4 ... 18.9 18.6  1. ]\n [23.7 36.3  2.2 ... 26.5 34.1  1. ]\n [18.4 27.5  0.  ... 19.7 24.4  0. ]\n ...\n [10.  20.1  0.  ... 14.3 19.   0. ]\n [ 9.9 25.3  0.  ... 14.4 24.5  0. ]\n [14.4 19.8 13.2 ... 15.4 16.6  1. ]]\n"
     ]
    }
   ],
   "source": [
    "%store -r X\n",
    "print(X)"
   ]
  },
  {
   "cell_type": "code",
   "execution_count": 31,
   "metadata": {},
   "outputs": [
    {
     "output_type": "stream",
     "name": "stdout",
     "text": [
      "[1 1 1 ... 0 0 0]\n"
     ]
    }
   ],
   "source": [
    "%store -r Y\n",
    "print(Y)\n"
   ]
  },
  {
   "cell_type": "code",
   "execution_count": 32,
   "metadata": {},
   "outputs": [],
   "source": [
    "import numpy as np\n",
    "import matplotlib.pyplot as plt\n",
    "from sklearn import datasets\n",
    "from sklearn.svm import SVC\n",
    "from sklearn.svm import LinearSVC\n",
    "from sklearn.model_selection import KFold\n",
    "from sklearn.model_selection import cross_validate"
   ]
  },
  {
   "cell_type": "code",
   "execution_count": 33,
   "metadata": {},
   "outputs": [],
   "source": [
    "svc = LinearSVC();"
   ]
  },
  {
   "cell_type": "code",
   "execution_count": 34,
   "metadata": {},
   "outputs": [
    {
     "output_type": "stream",
     "name": "stdout",
     "text": [
      "Fit_time / Train_time:  [0.05018258 0.04321265 0.04300213 0.04091668 0.04017663]\nScore_time / Test_time:  [0.         0.00064492 0.         0.00099754 0.        ]\nTest_score / Test_accuracy:  [0.5410628  0.647343   0.67149758 0.80097087 0.85436893]\nTrain_score / Train_accuracy:  [0.66464891 0.76029056 0.61016949 0.77629988 0.80652963]\n"
     ]
    }
   ],
   "source": [
    "cv_result = cross_validate(svc, X, Y, cv=5, return_train_score= True)\n",
    "\n",
    "print('Fit_time / Train_time: ', cv_result['fit_time'])\n",
    "print('Score_time / Test_time: ', cv_result['score_time'])\n",
    "print('Test_score / Test_accuracy: ', cv_result['test_score'])\n",
    "print('Train_score / Train_accuracy: ', cv_result['train_score'])"
   ]
  },
  {
   "cell_type": "code",
   "execution_count": 35,
   "metadata": {},
   "outputs": [],
   "source": [
    "svc_linear_kernal = SVC(kernel='linear')"
   ]
  },
  {
   "cell_type": "code",
   "execution_count": 36,
   "metadata": {},
   "outputs": [
    {
     "output_type": "stream",
     "name": "stdout",
     "text": [
      "Fit_time / Train_time:  [0.30199409 0.37571526 0.47104359 0.53714538 0.46996021]\nScore_time / Test_time:  [0.00153089 0.00191641 0.00195932 0.00199127 0.00154543]\nTest_score / Test_accuracy:  [0.6763285  0.77777778 0.80193237 0.7961165  0.86407767]\nTrain_score / Train_accuracy:  [0.86440678 0.84866828 0.84624697 0.83796856 0.83555018]\n"
     ]
    }
   ],
   "source": [
    "cv_result_linear_kernal = cross_validate(svc_linear_kernal, X, Y, cv=5, return_train_score= True)\n",
    "\n",
    "print('Fit_time / Train_time: ', cv_result_linear_kernal['fit_time'])\n",
    "print('Score_time / Test_time: ', cv_result_linear_kernal['score_time'])\n",
    "print('Test_score / Test_accuracy: ', cv_result_linear_kernal['test_score'])\n",
    "print('Train_score / Train_accuracy: ', cv_result_linear_kernal['train_score'])"
   ]
  },
  {
   "cell_type": "code",
   "execution_count": 37,
   "metadata": {},
   "outputs": [],
   "source": [
    "svc_rbf_kernal = SVC(kernel='rbf', C = 1, gamma= 'auto')"
   ]
  },
  {
   "cell_type": "code",
   "execution_count": 38,
   "metadata": {},
   "outputs": [
    {
     "output_type": "stream",
     "name": "stdout",
     "text": [
      "Fit_time / Train_time:  [0.03188634 0.02822089 0.03118825 0.0304749  0.03261185]\nScore_time / Test_time:  [0.01698637 0.01498365 0.01643753 0.0166595  0.01578116]\nTest_score / Test_accuracy:  [0.50241546 0.57971014 0.51207729 0.56796117 0.53883495]\nTrain_score / Train_accuracy:  [1. 1. 1. 1. 1.]\n"
     ]
    }
   ],
   "source": [
    "cv_result_rbf_kernal = cross_validate(svc_rbf_kernal, X, Y, cv=5, return_train_score= True)\n",
    "\n",
    "print('Fit_time / Train_time: ', cv_result_rbf_kernal['fit_time'])\n",
    "print('Score_time / Test_time: ', cv_result_rbf_kernal['score_time'])\n",
    "print('Test_score / Test_accuracy: ', cv_result_rbf_kernal['test_score'])\n",
    "print('Train_score / Train_accuracy: ', cv_result_rbf_kernal['train_score'])"
   ]
  },
  {
   "cell_type": "code",
   "execution_count": 39,
   "metadata": {},
   "outputs": [],
   "source": [
    "svc_rbf_kernal = SVC(kernel='rbf', C = 1, gamma = 'scale')"
   ]
  },
  {
   "cell_type": "code",
   "execution_count": 40,
   "metadata": {},
   "outputs": [
    {
     "output_type": "stream",
     "name": "stdout",
     "text": [
      "Fit_time / Train_time:  [0.02588868 0.02567315 0.02500844 0.02692866 0.02574015]\nScore_time / Test_time:  [0.02224755 0.01695442 0.01591134 0.01652551 0.01595712]\nTest_score / Test_accuracy:  [0.69565217 0.7294686  0.50724638 0.55339806 0.51456311]\nTrain_score / Train_accuracy:  [0.77966102 0.7433414  0.54600484 0.56348247 0.54655381]\n"
     ]
    }
   ],
   "source": [
    "cv_result_rbf_kernal = cross_validate(svc_rbf_kernal, X, Y, cv=5, return_train_score= True)\n",
    "\n",
    "print('Fit_time / Train_time: ', cv_result_rbf_kernal['fit_time'])\n",
    "print('Score_time / Test_time: ', cv_result_rbf_kernal['score_time'])\n",
    "print('Test_score / Test_accuracy: ', cv_result_rbf_kernal['test_score'])\n",
    "print('Train_score / Train_accuracy: ', cv_result_rbf_kernal['train_score'])"
   ]
  },
  {
   "cell_type": "code",
   "execution_count": 41,
   "metadata": {},
   "outputs": [],
   "source": [
    "svc_rbf_kernal = SVC(kernel='rbf', C = 1, gamma = 10)"
   ]
  },
  {
   "cell_type": "code",
   "execution_count": 42,
   "metadata": {},
   "outputs": [
    {
     "output_type": "stream",
     "name": "stdout",
     "text": [
      "Fit_time / Train_time:  [0.04819965 0.04867792 0.05125809 0.05119705 0.05327606]\nScore_time / Test_time:  [0.02301002 0.02197742 0.02205944 0.02294755 0.02173519]\nTest_score / Test_accuracy:  [0.50724638 0.52173913 0.49758454 0.5        0.5       ]\nTrain_score / Train_accuracy:  [1. 1. 1. 1. 1.]\n"
     ]
    }
   ],
   "source": [
    "cv_result_rbf_kernal = cross_validate(svc_rbf_kernal, X, Y, cv=5, return_train_score= True)\n",
    "\n",
    "print('Fit_time / Train_time: ', cv_result_rbf_kernal['fit_time'])\n",
    "print('Score_time / Test_time: ', cv_result_rbf_kernal['score_time'])\n",
    "print('Test_score / Test_accuracy: ', cv_result_rbf_kernal['test_score'])\n",
    "print('Train_score / Train_accuracy: ', cv_result_rbf_kernal['train_score'])"
   ]
  },
  {
   "cell_type": "code",
   "execution_count": 45,
   "metadata": {},
   "outputs": [],
   "source": [
    "svc_rbf_kernal = SVC(kernel='rbf', C = 1, gamma='scale')"
   ]
  },
  {
   "cell_type": "code",
   "execution_count": 46,
   "metadata": {},
   "outputs": [
    {
     "output_type": "stream",
     "name": "stdout",
     "text": [
      "Fit_time / Train_time:  [0.02870917 0.02449274 0.02399135 0.02697444 0.02593064]\nScore_time / Test_time:  [0.01893902 0.01538038 0.01620078 0.01550221 0.0169549 ]\nTest_score / Test_accuracy:  [0.69565217 0.7294686  0.50724638 0.55339806 0.51456311]\nTrain_score / Train_accuracy:  [0.77966102 0.7433414  0.54600484 0.56348247 0.54655381]\n"
     ]
    }
   ],
   "source": [
    "cv_result_rbf_kernal = cross_validate(svc_rbf_kernal, X, Y, cv=5, return_train_score= True)\n",
    "\n",
    "print('Fit_time / Train_time: ', cv_result_rbf_kernal['fit_time'])\n",
    "print('Score_time / Test_time: ', cv_result_rbf_kernal['score_time'])\n",
    "print('Test_score / Test_accuracy: ', cv_result_rbf_kernal['test_score'])\n",
    "print('Train_score / Train_accuracy: ', cv_result_rbf_kernal['train_score'])"
   ]
  },
  {
   "cell_type": "code",
   "execution_count": 47,
   "metadata": {},
   "outputs": [
    {
     "output_type": "stream",
     "name": "stdout",
     "text": [
      "Fit_time / Train_time:  [0.02086759 0.02119565 0.01996922 0.01818705 0.02046466]\nScore_time / Test_time:  [0.01197076 0.01239514 0.01309299 0.01206398 0.01329899]\nTest_score / Test_accuracy:  [0.71497585 0.7826087  0.80193237 0.7815534  0.80582524]\nTrain_score / Train_accuracy:  [0.79782082 0.78692494 0.78813559 0.77267231 0.77146312]\n"
     ]
    }
   ],
   "source": [
    "svc_rbf_kernal = SVC(kernel='rbf', C = 10, gamma='scale')\n",
    "\n",
    "cv_result_rbf_kernal = cross_validate(svc_rbf_kernal, X, Y, cv=5, return_train_score= True)\n",
    "\n",
    "print('Fit_time / Train_time: ', cv_result_rbf_kernal['fit_time'])\n",
    "print('Score_time / Test_time: ', cv_result_rbf_kernal['score_time'])\n",
    "print('Test_score / Test_accuracy: ', cv_result_rbf_kernal['test_score'])\n",
    "print('Train_score / Train_accuracy: ', cv_result_rbf_kernal['train_score'])"
   ]
  },
  {
   "cell_type": "code",
   "execution_count": 48,
   "metadata": {},
   "outputs": [
    {
     "output_type": "stream",
     "name": "stdout",
     "text": [
      "Fit_time / Train_time:  [0.01717949 0.01530266 0.01424861 0.01498318 0.01631236]\nScore_time / Test_time:  [0.00829244 0.00968719 0.00997019 0.00909281 0.00867414]\nTest_score / Test_accuracy:  [0.73913043 0.77777778 0.75362319 0.82038835 0.83495146]\nTrain_score / Train_accuracy:  [0.82808717 0.81719128 0.81840194 0.80048368 0.79443773]\n"
     ]
    }
   ],
   "source": [
    "svc_rbf_kernal = SVC(kernel='rbf', C = 100, gamma='scale')\n",
    "\n",
    "cv_result_rbf_kernal = cross_validate(svc_rbf_kernal, X, Y, cv=5, return_train_score= True)\n",
    "\n",
    "print('Fit_time / Train_time: ', cv_result_rbf_kernal['fit_time'])\n",
    "print('Score_time / Test_time: ', cv_result_rbf_kernal['score_time'])\n",
    "print('Test_score / Test_accuracy: ', cv_result_rbf_kernal['test_score'])\n",
    "print('Train_score / Train_accuracy: ', cv_result_rbf_kernal['train_score'])"
   ]
  },
  {
   "cell_type": "code",
   "execution_count": 50,
   "metadata": {},
   "outputs": [
    {
     "output_type": "stream",
     "name": "stdout",
     "text": [
      "Fit_time / Train_time:  [0.03580713 0.03492403 0.03426099 0.03476238 0.0369935 ]\nScore_time / Test_time:  [0.00858665 0.00798321 0.00860167 0.00864029 0.0080092 ]\nTest_score / Test_accuracy:  [0.67149758 0.65217391 0.49758454 0.5        0.5       ]\nTrain_score / Train_accuracy:  [0.7433414  0.70702179 0.50121065 0.50060459 0.50060459]\n"
     ]
    }
   ],
   "source": [
    "svc_sigmoid = SVC(kernel='sigmoid')\n",
    "\n",
    "cv_result_sigmoid_kernal = cross_validate(svc_sigmoid, X, Y, cv=5, return_train_score= True)\n",
    "\n",
    "print('Fit_time / Train_time: ', cv_result_sigmoid_kernal['fit_time'])\n",
    "print('Score_time / Test_time: ', cv_result_sigmoid_kernal['score_time'])\n",
    "print('Test_score / Test_accuracy: ', cv_result_sigmoid_kernal['test_score'])\n",
    "print('Train_score / Train_accuracy: ', cv_result_sigmoid_kernal['train_score'])"
   ]
  },
  {
   "cell_type": "code",
   "execution_count": 51,
   "metadata": {},
   "outputs": [
    {
     "output_type": "stream",
     "name": "stdout",
     "text": [
      "Fit_time / Train_time:  [0.01801801 0.01819015 0.01790285 0.0179832  0.01722932]\nScore_time / Test_time:  [0.00498223 0.00481892 0.00397944 0.00499964 0.00401902]\nTest_score / Test_accuracy:  [0.70048309 0.76328502 0.80676329 0.75242718 0.79126214]\nTrain_score / Train_accuracy:  [0.78571429 0.76634383 0.7566586  0.76299879 0.75695284]\n"
     ]
    }
   ],
   "source": [
    "svc_poly = SVC(kernel='poly')\n",
    "\n",
    "cv_result_poly_kernal = cross_validate(svc_poly, X, Y, cv=5, return_train_score= True)\n",
    "\n",
    "print('Fit_time / Train_time: ', cv_result_poly_kernal['fit_time'])\n",
    "print('Score_time / Test_time: ', cv_result_poly_kernal['score_time'])\n",
    "print('Test_score / Test_accuracy: ', cv_result_poly_kernal['test_score'])\n",
    "print('Train_score / Train_accuracy: ', cv_result_poly_kernal['train_score'])"
   ]
  },
  {
   "source": [
    "svc_poly = SVC(kernel='poly', degree = 5)\n",
    "\n",
    "cv_result_poly_kernal = cross_validate(svc_poly, X, Y, cv=5, return_train_score= True)\n",
    "\n",
    "print('Fit_time / Train_time: ', cv_result_poly_kernal['fit_time'])\n",
    "print('Score_time / Test_time: ', cv_result_poly_kernal['score_time'])\n",
    "print('Test_score / Test_accuracy: ', cv_result_poly_kernal['test_score'])\n",
    "print('Train_score / Train_accuracy: ', cv_result_poly_kernal['train_score'])"
   ],
   "cell_type": "code",
   "metadata": {},
   "execution_count": 52,
   "outputs": [
    {
     "output_type": "stream",
     "name": "stdout",
     "text": [
      "Fit_time / Train_time:  [0.01749134 0.0159924  0.01827097 0.01603818 0.01695466]\nScore_time / Test_time:  [0.00401616 0.00497079 0.00425148 0.00371027 0.00299215]\nTest_score / Test_accuracy:  [0.71014493 0.7826087  0.7826087  0.76699029 0.81553398]\nTrain_score / Train_accuracy:  [0.79418886 0.78450363 0.78208232 0.76904474 0.76783555]\n"
     ]
    }
   ]
  },
  {
   "cell_type": "code",
   "execution_count": 53,
   "metadata": {},
   "outputs": [
    {
     "output_type": "stream",
     "name": "stdout",
     "text": [
      "Fit_time / Train_time:  [0.0199101  0.01196766 0.01934338 0.01369071 0.01195931]\nScore_time / Test_time:  [0.00304198 0.00400615 0.00312138 0.00299096 0.00386262]\nTest_score / Test_accuracy:  [0.72463768 0.80193237 0.76811594 0.78640777 0.82038835]\nTrain_score / Train_accuracy:  [0.81113801 0.80145278 0.80508475 0.77992745 0.78718259]\n"
     ]
    }
   ],
   "source": [
    "svc_poly = SVC(kernel='poly', degree = 10)\n",
    "\n",
    "cv_result_poly_kernal = cross_validate(svc_poly, X, Y, cv=5, return_train_score= True)\n",
    "\n",
    "print('Fit_time / Train_time: ', cv_result_poly_kernal['fit_time'])\n",
    "print('Score_time / Test_time: ', cv_result_poly_kernal['score_time'])\n",
    "print('Test_score / Test_accuracy: ', cv_result_poly_kernal['test_score'])\n",
    "print('Train_score / Train_accuracy: ', cv_result_poly_kernal['train_score'])"
   ]
  },
  {
   "cell_type": "code",
   "execution_count": null,
   "metadata": {},
   "outputs": [],
   "source": []
  }
 ]
}